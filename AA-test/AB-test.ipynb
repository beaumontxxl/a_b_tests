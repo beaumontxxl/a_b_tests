{
 "cells": [
  {
   "cell_type": "markdown",
   "id": "09129bd0-df37-431b-99d3-4553722f7440",
   "metadata": {},
   "source": [
    "# Проведение АА-тестов"
   ]
  },
  {
   "cell_type": "markdown",
   "id": "abb670db-78af-4c3b-9971-5f7b6cdb9fe4",
   "metadata": {},
   "source": [
    "По данным с '2022-01-24' по '2023-01-30', нужно сделать симуляцию, как будто мы провели 10000 АА-тестов. На каждой итерации нам нужно сформировать подвыборки без повторения в 500 юзеров из 2 и 3 экспериментальной группы. Провести сравнение этих подвыборок t-testом. Сделать выводы об одинаковости выборок, корректоности работы системы сплитования"
   ]
  },
  {
   "cell_type": "markdown",
   "id": "7c005323-03fa-4bc7-8e58-b1a2a7c339ba",
   "metadata": {
    "tags": []
   },
   "source": [
    "## 1. Загрузка библиотек"
   ]
  },
  {
   "cell_type": "code",
   "execution_count": 1,
   "id": "566a34da-2bf4-4ceb-8070-1ac1b8aea982",
   "metadata": {},
   "outputs": [],
   "source": [
    "import pandas as pd\n",
    "import numpy as np\n",
    "import matplotlib.pyplot as plt\n",
    "import math\n",
    "from scipy import stats as st\n",
    "import seaborn as sns\n",
    "import hashlib\n",
    "import pandahouse as ph\n",
    "import random\n",
    "from scipy.stats import norm, ttest_ind"
   ]
  },
  {
   "cell_type": "markdown",
   "id": "aa0e82d5-6915-4891-b954-2cfeb6a87b59",
   "metadata": {},
   "source": [
    "### 2. Выгрузка данных по условию"
   ]
  },
  {
   "cell_type": "code",
   "execution_count": 2,
   "id": "17a9f4d5-a583-407c-aa3f-be482c15d599",
   "metadata": {},
   "outputs": [],
   "source": [
    "# функция для выполнения запосов\n",
    "def select(q):\n",
    "    return ph.read_clickhouse(q, connection=connection)"
   ]
  },
  {
   "cell_type": "code",
   "execution_count": 3,
   "id": "ac8b4a9f-7ffc-495c-a9b3-0d214a07a80c",
   "metadata": {},
   "outputs": [],
   "source": [
    "# устанавливаем параметры\n",
    "connection = {\n",
    "    'host': 'https://clickhouse.lab.karpov.courses',\n",
    "    'password': 'dpo_python_2020',\n",
    "    'user': 'student',\n",
    "    'database': 'simulator_20230220'\n",
    "}"
   ]
  },
  {
   "cell_type": "code",
   "execution_count": 4,
   "id": "d79edf75-15e7-4c58-9f59-27548babd217",
   "metadata": {},
   "outputs": [],
   "source": [
    "# Выгрузка данных по условию: '2022-01-24' по '2023-01-30' и 2 и 3 экспериментальной группы\n",
    "query = '''SELECT exp_group, \n",
    "    user_id,\n",
    "    sum(action = 'like') as likes,\n",
    "    sum(action = 'view') as views,\n",
    "    likes/views as ctr\n",
    "FROM {db}.feed_actions \n",
    "WHERE toDate(time) between '2023-01-24' and '2023-01-30'\n",
    "    and exp_group in (2,3)\n",
    "GROUP BY exp_group, user_id\n",
    "'''"
   ]
  },
  {
   "cell_type": "code",
   "execution_count": 5,
   "id": "dc139f3a-8786-482b-b188-9b177a16d4be",
   "metadata": {},
   "outputs": [],
   "source": [
    "df_group = select(query)  # сохраняем данныe по условию: '2022-01-24' по '2023-01-30' и 2 и 3 экспериментальной группы"
   ]
  },
  {
   "cell_type": "code",
   "execution_count": 6,
   "id": "a053cf83-3a34-42ac-b528-5a4750bc2492",
   "metadata": {},
   "outputs": [
    {
     "data": {
      "text/html": [
       "<div>\n",
       "<style scoped>\n",
       "    .dataframe tbody tr th:only-of-type {\n",
       "        vertical-align: middle;\n",
       "    }\n",
       "\n",
       "    .dataframe tbody tr th {\n",
       "        vertical-align: top;\n",
       "    }\n",
       "\n",
       "    .dataframe thead th {\n",
       "        text-align: right;\n",
       "    }\n",
       "</style>\n",
       "<table border=\"1\" class=\"dataframe\">\n",
       "  <thead>\n",
       "    <tr style=\"text-align: right;\">\n",
       "      <th></th>\n",
       "      <th>exp_group</th>\n",
       "      <th>user_id</th>\n",
       "      <th>likes</th>\n",
       "      <th>views</th>\n",
       "      <th>ctr</th>\n",
       "    </tr>\n",
       "  </thead>\n",
       "  <tbody>\n",
       "    <tr>\n",
       "      <th>0</th>\n",
       "      <td>3</td>\n",
       "      <td>115383</td>\n",
       "      <td>11</td>\n",
       "      <td>36</td>\n",
       "      <td>0.305556</td>\n",
       "    </tr>\n",
       "    <tr>\n",
       "      <th>1</th>\n",
       "      <td>3</td>\n",
       "      <td>123580</td>\n",
       "      <td>15</td>\n",
       "      <td>92</td>\n",
       "      <td>0.163043</td>\n",
       "    </tr>\n",
       "    <tr>\n",
       "      <th>2</th>\n",
       "      <td>2</td>\n",
       "      <td>131473</td>\n",
       "      <td>26</td>\n",
       "      <td>148</td>\n",
       "      <td>0.175676</td>\n",
       "    </tr>\n",
       "    <tr>\n",
       "      <th>3</th>\n",
       "      <td>2</td>\n",
       "      <td>23985</td>\n",
       "      <td>12</td>\n",
       "      <td>66</td>\n",
       "      <td>0.181818</td>\n",
       "    </tr>\n",
       "    <tr>\n",
       "      <th>4</th>\n",
       "      <td>2</td>\n",
       "      <td>24523</td>\n",
       "      <td>17</td>\n",
       "      <td>120</td>\n",
       "      <td>0.141667</td>\n",
       "    </tr>\n",
       "    <tr>\n",
       "      <th>...</th>\n",
       "      <td>...</td>\n",
       "      <td>...</td>\n",
       "      <td>...</td>\n",
       "      <td>...</td>\n",
       "      <td>...</td>\n",
       "    </tr>\n",
       "    <tr>\n",
       "      <th>17044</th>\n",
       "      <td>3</td>\n",
       "      <td>122008</td>\n",
       "      <td>4</td>\n",
       "      <td>31</td>\n",
       "      <td>0.129032</td>\n",
       "    </tr>\n",
       "    <tr>\n",
       "      <th>17045</th>\n",
       "      <td>2</td>\n",
       "      <td>25383</td>\n",
       "      <td>16</td>\n",
       "      <td>57</td>\n",
       "      <td>0.280702</td>\n",
       "    </tr>\n",
       "    <tr>\n",
       "      <th>17046</th>\n",
       "      <td>3</td>\n",
       "      <td>122190</td>\n",
       "      <td>25</td>\n",
       "      <td>74</td>\n",
       "      <td>0.337838</td>\n",
       "    </tr>\n",
       "    <tr>\n",
       "      <th>17047</th>\n",
       "      <td>2</td>\n",
       "      <td>108927</td>\n",
       "      <td>8</td>\n",
       "      <td>33</td>\n",
       "      <td>0.242424</td>\n",
       "    </tr>\n",
       "    <tr>\n",
       "      <th>17048</th>\n",
       "      <td>2</td>\n",
       "      <td>17310</td>\n",
       "      <td>2</td>\n",
       "      <td>14</td>\n",
       "      <td>0.142857</td>\n",
       "    </tr>\n",
       "  </tbody>\n",
       "</table>\n",
       "<p>17049 rows × 5 columns</p>\n",
       "</div>"
      ],
      "text/plain": [
       "       exp_group  user_id  likes  views       ctr\n",
       "0              3   115383     11     36  0.305556\n",
       "1              3   123580     15     92  0.163043\n",
       "2              2   131473     26    148  0.175676\n",
       "3              2    23985     12     66  0.181818\n",
       "4              2    24523     17    120  0.141667\n",
       "...          ...      ...    ...    ...       ...\n",
       "17044          3   122008      4     31  0.129032\n",
       "17045          2    25383     16     57  0.280702\n",
       "17046          3   122190     25     74  0.337838\n",
       "17047          2   108927      8     33  0.242424\n",
       "17048          2    17310      2     14  0.142857\n",
       "\n",
       "[17049 rows x 5 columns]"
      ]
     },
     "execution_count": 6,
     "metadata": {},
     "output_type": "execute_result"
    }
   ],
   "source": [
    "df_group"
   ]
  },
  {
   "cell_type": "markdown",
   "id": "abe9296a-3806-4122-ab5f-24ac011496cd",
   "metadata": {},
   "source": [
    "### 3. Размер выборки"
   ]
  },
  {
   "cell_type": "code",
   "execution_count": 7,
   "id": "74806d22-1818-4511-939a-f41f0643c2bf",
   "metadata": {},
   "outputs": [],
   "source": [
    "# Калькулятор размера выборки\n",
    "def compute_sample_size_abs(epsilon, std1, std2, alpha=0.05, beta=0.2):\n",
    "    t_alpha = norm.ppf(1 - alpha / 2, loc=0, scale=1)\n",
    "    t_beta = norm.ppf(1 - beta, loc=0, scale=1)\n",
    "    z_scores_sum_squared = (t_alpha + t_beta) ** 2\n",
    "    sample_size = int(\n",
    "        np.ceil(\n",
    "            z_scores_sum_squared * (std1 ** 2 + std2 ** 2) / (epsilon ** 2)\n",
    "        )\n",
    "    )\n",
    "    return sample_size"
   ]
  },
  {
   "cell_type": "code",
   "execution_count": 8,
   "id": "56a9b0ca-11bc-41ad-8945-443989d1958b",
   "metadata": {},
   "outputs": [],
   "source": [
    "# Для просмотров выгрузим статистику\n",
    "query = \"\"\"\n",
    "select views, count() as users\n",
    "from (select  \n",
    "    exp_group,\n",
    "    user_id,\n",
    "    sum(action = 'view') as views\n",
    "from {db}.feed_actions \n",
    "where toDate(time) between '2023-01-24' and '2023-01-30'\n",
    "    and exp_group in (1,2,3,4,5)\n",
    "group by exp_group, user_id\n",
    ")\n",
    "group by views\n",
    "order by views\n",
    "\"\"\"\n",
    "\n",
    "\n",
    "views_distribution = select(query)"
   ]
  },
  {
   "cell_type": "code",
   "execution_count": 9,
   "id": "e3be3b78-abb9-4b8d-9845-52b17f269515",
   "metadata": {},
   "outputs": [
    {
     "data": {
      "text/plain": [
       "34101"
      ]
     },
     "execution_count": 9,
     "metadata": {},
     "output_type": "execute_result"
    }
   ],
   "source": [
    "views_distribution['users'].sum()  # всего юзеров"
   ]
  },
  {
   "cell_type": "code",
   "execution_count": 10,
   "id": "db3ddc81-4b4a-43fb-a321-c73b7c993872",
   "metadata": {},
   "outputs": [],
   "source": [
    "views_distribution['p'] = views_distribution['users']/views_distribution['users'].sum()  # распределение вероятностей появления каждого из значений \"users\""
   ]
  },
  {
   "cell_type": "code",
   "execution_count": 11,
   "id": "d92f2b11-80be-40dd-888b-58053672ccaa",
   "metadata": {},
   "outputs": [
    {
     "data": {
      "text/html": [
       "<div>\n",
       "<style scoped>\n",
       "    .dataframe tbody tr th:only-of-type {\n",
       "        vertical-align: middle;\n",
       "    }\n",
       "\n",
       "    .dataframe tbody tr th {\n",
       "        vertical-align: top;\n",
       "    }\n",
       "\n",
       "    .dataframe thead th {\n",
       "        text-align: right;\n",
       "    }\n",
       "</style>\n",
       "<table border=\"1\" class=\"dataframe\">\n",
       "  <thead>\n",
       "    <tr style=\"text-align: right;\">\n",
       "      <th></th>\n",
       "      <th>views</th>\n",
       "      <th>users</th>\n",
       "      <th>p</th>\n",
       "    </tr>\n",
       "  </thead>\n",
       "  <tbody>\n",
       "    <tr>\n",
       "      <th>15</th>\n",
       "      <td>16</td>\n",
       "      <td>427</td>\n",
       "      <td>0.012522</td>\n",
       "    </tr>\n",
       "    <tr>\n",
       "      <th>14</th>\n",
       "      <td>15</td>\n",
       "      <td>420</td>\n",
       "      <td>0.012316</td>\n",
       "    </tr>\n",
       "    <tr>\n",
       "      <th>16</th>\n",
       "      <td>17</td>\n",
       "      <td>420</td>\n",
       "      <td>0.012316</td>\n",
       "    </tr>\n",
       "    <tr>\n",
       "      <th>13</th>\n",
       "      <td>14</td>\n",
       "      <td>394</td>\n",
       "      <td>0.011554</td>\n",
       "    </tr>\n",
       "    <tr>\n",
       "      <th>30</th>\n",
       "      <td>31</td>\n",
       "      <td>394</td>\n",
       "      <td>0.011554</td>\n",
       "    </tr>\n",
       "    <tr>\n",
       "      <th>...</th>\n",
       "      <td>...</td>\n",
       "      <td>...</td>\n",
       "      <td>...</td>\n",
       "    </tr>\n",
       "    <tr>\n",
       "      <th>287</th>\n",
       "      <td>289</td>\n",
       "      <td>1</td>\n",
       "      <td>0.000029</td>\n",
       "    </tr>\n",
       "    <tr>\n",
       "      <th>288</th>\n",
       "      <td>290</td>\n",
       "      <td>1</td>\n",
       "      <td>0.000029</td>\n",
       "    </tr>\n",
       "    <tr>\n",
       "      <th>291</th>\n",
       "      <td>293</td>\n",
       "      <td>1</td>\n",
       "      <td>0.000029</td>\n",
       "    </tr>\n",
       "    <tr>\n",
       "      <th>292</th>\n",
       "      <td>294</td>\n",
       "      <td>1</td>\n",
       "      <td>0.000029</td>\n",
       "    </tr>\n",
       "    <tr>\n",
       "      <th>314</th>\n",
       "      <td>371</td>\n",
       "      <td>1</td>\n",
       "      <td>0.000029</td>\n",
       "    </tr>\n",
       "  </tbody>\n",
       "</table>\n",
       "<p>315 rows × 3 columns</p>\n",
       "</div>"
      ],
      "text/plain": [
       "     views  users         p\n",
       "15      16    427  0.012522\n",
       "14      15    420  0.012316\n",
       "16      17    420  0.012316\n",
       "13      14    394  0.011554\n",
       "30      31    394  0.011554\n",
       "..     ...    ...       ...\n",
       "287    289      1  0.000029\n",
       "288    290      1  0.000029\n",
       "291    293      1  0.000029\n",
       "292    294      1  0.000029\n",
       "314    371      1  0.000029\n",
       "\n",
       "[315 rows x 3 columns]"
      ]
     },
     "execution_count": 11,
     "metadata": {},
     "output_type": "execute_result"
    }
   ],
   "source": [
    "views_distribution.sort_values(by = 'p', ascending = False)"
   ]
  },
  {
   "cell_type": "code",
   "execution_count": 12,
   "id": "c003fa29-cf60-41de-ad98-1058d647ebd1",
   "metadata": {},
   "outputs": [],
   "source": [
    "# построение произвольного распределения, определяемого списком \"views\" и соответствующих вероятностей.\n",
    "views_distr = st.rv_discrete(name='views_distr', \n",
    "                                values=(views_distribution['views'], \n",
    "                                        views_distribution['p']))"
   ]
  },
  {
   "cell_type": "code",
   "execution_count": 13,
   "id": "abc06624-649e-4e30-9cc5-6c4c27531e51",
   "metadata": {},
   "outputs": [
    {
     "name": "stdout",
     "output_type": "stream",
     "text": [
      "Первые 10 значений выборки:\n",
      " [116  53  34  69  96  23  85  93  18  14]\n",
      "Выборочное среденее: 76.067\n",
      "Частота значений по выборке: 0.0 0.0033333333333333335 0.0\n"
     ]
    }
   ],
   "source": [
    "sample = views_distr.rvs(size=300)\n",
    "\n",
    "print('Первые 10 значений выборки:\\n', sample[:10])\n",
    "print('Выборочное среденее: %.3f' % sample.mean())\n",
    "print('Частота значений по выборке:', \n",
    "      (sample == 1).mean(), (sample == 2).mean(), (sample == 3).mean())"
   ]
  },
  {
   "cell_type": "code",
   "execution_count": 14,
   "id": "99b74f6a-9e7d-4298-b986-a321b85d5b20",
   "metadata": {},
   "outputs": [],
   "source": [
    "# Для CTR выгрузим статистику за неделю, таким образом мы учтем сезонность поведения пользователей\n",
    "query = \"\"\"\n",
    "select \n",
    "   floor(ctr, 2) as ctr, count() as users\n",
    "from (select toDate(time) as dt, \n",
    "    exp_group,\n",
    "    user_id,\n",
    "    sum(action = 'like')/sum(action = 'view') as ctr\n",
    "from {db}.feed_actions \n",
    "where dt between '2023-01-24' and '2023-01-30'\n",
    "    and exp_group in (1,2,3,4,5)\n",
    "group by dt, exp_group, user_id\n",
    ")\n",
    "group by ctr\n",
    "\"\"\"\n",
    "\n",
    "\n",
    "ctr_distribution = select(query)\n",
    "ctr_distribution['p'] = ctr_distribution['users']/ctr_distribution.users.sum()"
   ]
  },
  {
   "cell_type": "code",
   "execution_count": 15,
   "id": "531a9fd6-3f76-48e4-94c0-d18d54b23e63",
   "metadata": {},
   "outputs": [
    {
     "data": {
      "text/html": [
       "<div>\n",
       "<style scoped>\n",
       "    .dataframe tbody tr th:only-of-type {\n",
       "        vertical-align: middle;\n",
       "    }\n",
       "\n",
       "    .dataframe tbody tr th {\n",
       "        vertical-align: top;\n",
       "    }\n",
       "\n",
       "    .dataframe thead th {\n",
       "        text-align: right;\n",
       "    }\n",
       "</style>\n",
       "<table border=\"1\" class=\"dataframe\">\n",
       "  <thead>\n",
       "    <tr style=\"text-align: right;\">\n",
       "      <th></th>\n",
       "      <th>ctr</th>\n",
       "      <th>users</th>\n",
       "      <th>p</th>\n",
       "    </tr>\n",
       "  </thead>\n",
       "  <tbody>\n",
       "    <tr>\n",
       "      <th>17</th>\n",
       "      <td>0.20</td>\n",
       "      <td>4125</td>\n",
       "      <td>0.060269</td>\n",
       "    </tr>\n",
       "    <tr>\n",
       "      <th>6</th>\n",
       "      <td>0.18</td>\n",
       "      <td>3429</td>\n",
       "      <td>0.050100</td>\n",
       "    </tr>\n",
       "    <tr>\n",
       "      <th>31</th>\n",
       "      <td>0.16</td>\n",
       "      <td>3405</td>\n",
       "      <td>0.049749</td>\n",
       "    </tr>\n",
       "    <tr>\n",
       "      <th>48</th>\n",
       "      <td>0.25</td>\n",
       "      <td>3246</td>\n",
       "      <td>0.047426</td>\n",
       "    </tr>\n",
       "    <tr>\n",
       "      <th>27</th>\n",
       "      <td>0.17</td>\n",
       "      <td>3222</td>\n",
       "      <td>0.047076</td>\n",
       "    </tr>\n",
       "    <tr>\n",
       "      <th>...</th>\n",
       "      <td>...</td>\n",
       "      <td>...</td>\n",
       "      <td>...</td>\n",
       "    </tr>\n",
       "    <tr>\n",
       "      <th>19</th>\n",
       "      <td>0.80</td>\n",
       "      <td>1</td>\n",
       "      <td>0.000015</td>\n",
       "    </tr>\n",
       "    <tr>\n",
       "      <th>37</th>\n",
       "      <td>0.88</td>\n",
       "      <td>1</td>\n",
       "      <td>0.000015</td>\n",
       "    </tr>\n",
       "    <tr>\n",
       "      <th>9</th>\n",
       "      <td>0.78</td>\n",
       "      <td>1</td>\n",
       "      <td>0.000015</td>\n",
       "    </tr>\n",
       "    <tr>\n",
       "      <th>26</th>\n",
       "      <td>0.68</td>\n",
       "      <td>1</td>\n",
       "      <td>0.000015</td>\n",
       "    </tr>\n",
       "    <tr>\n",
       "      <th>56</th>\n",
       "      <td>0.76</td>\n",
       "      <td>1</td>\n",
       "      <td>0.000015</td>\n",
       "    </tr>\n",
       "  </tbody>\n",
       "</table>\n",
       "<p>77 rows × 3 columns</p>\n",
       "</div>"
      ],
      "text/plain": [
       "     ctr  users         p\n",
       "17  0.20   4125  0.060269\n",
       "6   0.18   3429  0.050100\n",
       "31  0.16   3405  0.049749\n",
       "48  0.25   3246  0.047426\n",
       "27  0.17   3222  0.047076\n",
       "..   ...    ...       ...\n",
       "19  0.80      1  0.000015\n",
       "37  0.88      1  0.000015\n",
       "9   0.78      1  0.000015\n",
       "26  0.68      1  0.000015\n",
       "56  0.76      1  0.000015\n",
       "\n",
       "[77 rows x 3 columns]"
      ]
     },
     "execution_count": 15,
     "metadata": {},
     "output_type": "execute_result"
    }
   ],
   "source": [
    "ctr_distribution.sort_values(by = 'p', ascending = False)"
   ]
  },
  {
   "cell_type": "code",
   "execution_count": 16,
   "id": "523f54d4-390e-4e16-8d8f-c0306dc9562b",
   "metadata": {},
   "outputs": [],
   "source": [
    "# построение произвольного распределения, определяемого списком \"CTR\" и соответствующих вероятностей\n",
    "probabilities = ctr_distribution['p']\n",
    "values = ctr_distribution['ctr']\n",
    "distrib = st.rv_discrete(values=(range(len(probabilities)), probabilities))\n",
    "\n",
    "def get_ctrs(x, y):\n",
    "    idx = distrib.rvs(size=x*y)\n",
    "    result = values[idx]\n",
    "    return np.array(result).reshape(x,y)"
   ]
  },
  {
   "cell_type": "markdown",
   "id": "197db1bf-6c7e-48a4-8e94-24e45e81fda2",
   "metadata": {},
   "source": [
    "### 4. Синтетический А-А тест"
   ]
  },
  {
   "cell_type": "code",
   "execution_count": 17,
   "id": "e3844693-2b8a-4a6b-9e06-e309c2cb5506",
   "metadata": {},
   "outputs": [
    {
     "data": {
      "text/plain": [
       "0.0960017672016051"
      ]
     },
     "execution_count": 17,
     "metadata": {},
     "output_type": "execute_result"
    }
   ],
   "source": [
    "# Найдем среднеквадратическое отклонение за выбранную неделю\n",
    "query = \"\"\"\n",
    "select \n",
    "   stddevPop(ctr) as ctr_std\n",
    "from (select toDate(time) as dt, \n",
    "    exp_group,\n",
    "    user_id,\n",
    "    sum(action = 'like')/sum(action = 'view') as ctr\n",
    "from {db}.feed_actions \n",
    "where dt between '2023-01-24' and '2023-01-30'\n",
    "    and exp_group in (1,2,3,4,5)\n",
    "group by dt, exp_group, user_id\n",
    ")\n",
    "\n",
    "\"\"\"\n",
    "\n",
    "std = select(query).values[0][0]\n",
    "std"
   ]
  },
  {
   "cell_type": "markdown",
   "id": "ac102818-cf09-4a69-a720-19b0b7c24caa",
   "metadata": {},
   "source": [
    "#### Найдем размер выборки используя формулу\n",
    "\n",
    "$$n > \\frac{\\left[ \\Phi^{-1} \\left( 1-\\alpha \\right) + \\Phi^{-1} \\left( 1-\\beta \\right) \\right]^2 (\\sigma_X^2 + \\sigma_Y^2)}{\\varepsilon^2}$$\n",
    "\n",
    "Здесь $\\varepsilon$ - размер эффекта, $\\alpha$ - вероятность ошибки первого рода, $\\beta$ - вероятность ошибки 2 рода"
   ]
  },
  {
   "cell_type": "code",
   "execution_count": 18,
   "id": "de730bc3-f7e8-4db3-b4e9-a600a0464af0",
   "metadata": {},
   "outputs": [
    {
     "data": {
      "text/plain": [
       "1447"
      ]
     },
     "execution_count": 18,
     "metadata": {},
     "output_type": "execute_result"
    }
   ],
   "source": [
    "# Расчитаем размер выборки, принимая, что std одинаковые и расчитано выше, хотим заметить изменеие в 5%, т.е. если средний ctr на уровне 0.21, то хотим увидеть 0.22\n",
    "compute_sample_size_abs(0.01, std, std)"
   ]
  },
  {
   "cell_type": "code",
   "execution_count": 19,
   "id": "fed89bbf-0850-4d99-a74a-fe6dbe1b78e4",
   "metadata": {},
   "outputs": [],
   "source": [
    "# из распеределения просмотров генерируем 2000 выборок по 1447 наблюдений\n",
    "group_A_views = views_distr.rvs(size = (2000, 1447))\n",
    "group_B_views = views_distr.rvs(size = (2000, 1447))\n",
    "# сгенерируем распределение ctr\n",
    "group_A_ctr = get_ctrs(2000, 1447) * 1.05\n",
    "group_B_ctr = get_ctrs(2000,1447)\n",
    "# сгенерируем клики из биномиального распределения, зная распределение просмотров и ctr\n",
    "clicks_A = st.binom.rvs(group_A_views, group_A_ctr)\n",
    "clicks_B = st.binom.rvs(group_B_views, group_B_ctr)"
   ]
  },
  {
   "cell_type": "code",
   "execution_count": 20,
   "id": "788a0233-1f63-40f7-9be2-ba1ff8313629",
   "metadata": {},
   "outputs": [],
   "source": [
    "def t_test(a, b):\n",
    "    \"\"\"\n",
    "    Считает p-value для t-теста с двусторонней альтернативой \n",
    "    :param a: np.array вида (n_experiments, n_users), значения метрик в контрольных группах\n",
    "    :param b: np.array вида (n_experiments, n_users), значения метрик в тестовых группах\n",
    "    :return: np.array вида (n_experiments), посчитанные p-value t-теста для всего списка экспериментов\n",
    "    \"\"\"\n",
    "    result = list(map(lambda x: st.ttest_ind(\n",
    "        x[0], x[1]).pvalue, zip(a, b)))\n",
    "    return np.array(result)"
   ]
  },
  {
   "cell_type": "code",
   "execution_count": 21,
   "id": "f3b2b9de-48c0-4332-b249-a302610c8aa0",
   "metadata": {},
   "outputs": [
    {
     "data": {
      "text/plain": [
       "0.688"
      ]
     },
     "execution_count": 21,
     "metadata": {},
     "output_type": "execute_result"
    }
   ],
   "source": [
    "# таким образом мы посчитаем в каком количестве случаев мы увидим разницу в 5% случаев\n",
    "np.sum(t_test(clicks_A/group_A_views, clicks_B/group_B_views)<= 0.05)/2000"
   ]
  },
  {
   "cell_type": "code",
   "execution_count": 22,
   "id": "2e8dd2ca-0bfa-4fa4-8e62-994266623b21",
   "metadata": {},
   "outputs": [],
   "source": [
    "#  променяем количество наблюдений, хотим достигнуть 80 % \n",
    "# из распеределения просмотров генерируем 2000 выборок по 2000 наблюдений\n",
    "group_A_views = views_distr.rvs(size = (2000, 2000))\n",
    "group_B_views = views_distr.rvs(size = (2000, 2000))\n",
    "# сгенерируем распределение ctr\n",
    "group_A_ctr = get_ctrs(2000, 2000) * 1.05  # увеление среднего ctr на 5 %\n",
    "group_B_ctr = get_ctrs(2000, 2000)\n",
    "# сгенерируем клики из биномиального распределения, зная распределение просмотров и ctr\n",
    "clicks_A = st.binom.rvs(group_A_views, group_A_ctr)\n",
    "clicks_B = st.binom.rvs(group_B_views, group_B_ctr)"
   ]
  },
  {
   "cell_type": "code",
   "execution_count": 23,
   "id": "80fd439b-06c6-4a48-b515-7f24dc745078",
   "metadata": {},
   "outputs": [
    {
     "data": {
      "text/plain": [
       "0.8265"
      ]
     },
     "execution_count": 23,
     "metadata": {},
     "output_type": "execute_result"
    }
   ],
   "source": [
    "# таким образом мы посчитаем в каком количестве случаев мы увидим разницу в 5% случаев\n",
    "np.sum(t_test(clicks_A/group_A_views, clicks_B/group_B_views)<= 0.05)/2000"
   ]
  },
  {
   "cell_type": "markdown",
   "id": "b84c9a78-d4e0-4085-a85a-ef01093444cd",
   "metadata": {},
   "source": [
    "Вывод: Таким образом образом пришли к тому, что для того чтобы увидеть изменеия в 5 % (увелечение среднего CTR на 0.01) и при длительности эксперимента в 1 неделю, необходимо взять минимум 2000 наблюдений"
   ]
  },
  {
   "cell_type": "markdown",
   "id": "74681898-a520-4bbb-8f0e-5e1a1f0309e7",
   "metadata": {},
   "source": [
    "### 5. Проверка гипотез"
   ]
  },
  {
   "cell_type": "markdown",
   "id": "464a620b-dddf-4b38-9435-d1f20679f410",
   "metadata": {},
   "source": [
    "Нулевая гипотеза(Н0) – средние двух выборок равны (средние пользовательские CTR равны), альтернативная гипотеза(Н1) – средние пользовательские CTR 2 и 3 экспериментальной группы различаются."
   ]
  },
  {
   "cell_type": "code",
   "execution_count": 24,
   "id": "41d3da0a-1b52-4f72-b57b-59e625170859",
   "metadata": {},
   "outputs": [],
   "source": [
    "alpha = .05 # критический уровень статистической значимости"
   ]
  },
  {
   "cell_type": "code",
   "execution_count": 25,
   "id": "db776171-5cb9-4395-8a58-1173970f2d69",
   "metadata": {},
   "outputs": [],
   "source": [
    "# Создадим вспомогательную функцию\n",
    "def sim (df1, df2, n_users, n_tests):\n",
    "    p_value = []\n",
    "    for i in range(n_tests):\n",
    "        sample_1 = df1.sample(n_users, replace=False)\n",
    "        sample_2 = df2.sample(n_users, replace=False)\n",
    "        t_test = st.ttest_ind(sample_1, sample_2, equal_var=False)\n",
    "        p_value.append(t_test[1])\n",
    "    return p_value"
   ]
  },
  {
   "cell_type": "code",
   "execution_count": 26,
   "id": "ba77a64f-139e-4c6e-9b70-848c79a7b27b",
   "metadata": {},
   "outputs": [],
   "source": [
    "p_value = sim(df_group[df_group['exp_group'] == 2].ctr, df_group[df_group['exp_group'] == 3].ctr, 500, 10000)"
   ]
  },
  {
   "cell_type": "code",
   "execution_count": 27,
   "id": "ac8118d7-d94b-4c03-a82d-14d4290fe350",
   "metadata": {},
   "outputs": [
    {
     "data": {
      "image/png": "[encoded data removed]",
      "text/plain": [
       "<Figure size 432x288 with 1 Axes>"
      ]
     },
     "metadata": {
      "needs_background": "light"
     },
     "output_type": "display_data"
    }
   ],
   "source": [
    "sns.histplot(p_value)\n",
    "plt.title('Распределения получившихся p-values')\n",
    "plt.xlabel('p-value')\n",
    "plt.show()"
   ]
  },
  {
   "cell_type": "code",
   "execution_count": 28,
   "id": "68fdcc0a-b92c-4279-a89f-0a3d8587ef90",
   "metadata": {},
   "outputs": [
    {
     "name": "stdout",
     "output_type": "stream",
     "text": [
      "Среднее значение p-value: 0.5095057567528715\n"
     ]
    }
   ],
   "source": [
    "print('Среднее значение p-value:', sum(p_value) / len(p_value))"
   ]
  },
  {
   "cell_type": "code",
   "execution_count": 29,
   "id": "1c1bbc86-7bb9-4a93-8e9f-9eeb962df600",
   "metadata": {},
   "outputs": [
    {
     "name": "stdout",
     "output_type": "stream",
     "text": [
      "Процент p-values меньше либо равен 0.05: 4.33 %\n"
     ]
    }
   ],
   "source": [
    "print('Процент p-values меньше либо равен 0.05:', len([item for item in p_value if item <= 0.05]) / len(p_value) * 100, '%')"
   ]
  },
  {
   "cell_type": "markdown",
   "id": "2a8ce168-2fc4-45b6-8b31-e5e9ce00415e",
   "metadata": {},
   "source": [
    "### Вывод"
   ]
  },
  {
   "cell_type": "markdown",
   "id": "cc52ab78-0101-4e80-a31c-a5314c36c618",
   "metadata": {},
   "source": [
    "Рассматривая распределение получившихся p-values и учитывая, что процент тестов, которые показывают изменения, т.е. отвергается нулевая гипотеза о равенстве,  меньше  чем в 5% случаях от всего количество проведенных тестов.\n",
    "Согласно проведенному анализу, можно прийти к выводу, что выборки одинаковые, т.е. наша система сплитования корректно работает"
   ]
  },
  {
   "cell_type": "code",
   "execution_count": null,
   "id": "156a21a7-c802-4287-a52c-6e4384ffacc3",
   "metadata": {},
   "outputs": [],
   "source": []
  }
 ],
 "metadata": {
  "kernelspec": {
   "display_name": "Python 3 (ipykernel)",
   "language": "python",
   "name": "python3"
  },
  "language_info": {
   "codemirror_mode": {
    "name": "ipython",
    "version": 3
   },
   "file_extension": ".py",
   "mimetype": "text/x-python",
   "name": "python",
   "nbconvert_exporter": "python",
   "pygments_lexer": "ipython3",
   "version": "3.8.10"
  }
 },
 "nbformat": 4,
 "nbformat_minor": 5
}
