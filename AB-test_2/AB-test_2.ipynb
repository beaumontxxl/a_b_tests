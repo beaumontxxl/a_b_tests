{
 "cells": [
  {
   "cell_type": "markdown",
   "id": "e5968acb-a41d-4e90-85e1-a8ca0971e952",
   "metadata": {},
   "source": [
    "## Тест между группами по метрике линеаризованных лайков"
   ]
  },
  {
   "cell_type": "markdown",
   "id": "94b3cfbe-816e-4ea4-baad-fd3e028d8e22",
   "metadata": {},
   "source": [
    "Проанализировать тест между группами 0 и 3 по метрике линеаризованных лайков. Видно ли отличие? Стало ли 𝑝−𝑣𝑎𝑙𝑢𝑒 меньше?\n",
    "Проанализировать тест между группами 1 и 2 по метрике линеаризованных лайков. Видно ли отличие? Стало ли 𝑝−𝑣𝑎𝑙𝑢𝑒 меньше?"
   ]
  },
  {
   "cell_type": "markdown",
   "id": "5eaa826c-6f82-4a6a-bd84-6df9a27936f9",
   "metadata": {},
   "source": [
    "## 1. Загрузка библиотек"
   ]
  },
  {
   "cell_type": "code",
   "execution_count": 1,
   "id": "fcb857a4-2c3f-4e7a-81a2-01445df6759c",
   "metadata": {},
   "outputs": [],
   "source": [
    "import pandas as pd\n",
    "import numpy as np\n",
    "import matplotlib.pyplot as plt\n",
    "import math\n",
    "from scipy import stats as st\n",
    "import seaborn as sns\n",
    "import hashlib\n",
    "import pandahouse as ph\n",
    "import random"
   ]
  },
  {
   "cell_type": "code",
   "execution_count": 2,
   "id": "ce956d8c-1eba-4dab-a23a-44d62915f149",
   "metadata": {},
   "outputs": [],
   "source": [
    "# функция для изучения общей информации о датасетах\n",
    "def general_information(data):\n",
    "    data.info()\n",
    "    print()\n",
    "    display(data.head())\n",
    "    print()\n",
    "    print('Дубликатов', data.duplicated().sum(), 'или', round(data.duplicated().sum() / len(data) * 100), '%')"
   ]
  },
  {
   "cell_type": "code",
   "execution_count": 3,
   "id": "ceb8ff74-6060-4940-80b2-d838fbeaa391",
   "metadata": {},
   "outputs": [],
   "source": [
    "# функция для выполнения запосов\n",
    "def select(q):\n",
    "    return ph.read_clickhouse(q, connection=connection)"
   ]
  },
  {
   "cell_type": "code",
   "execution_count": 4,
   "id": "e7a696b8-686a-4620-b7c3-eba315f7f7ea",
   "metadata": {},
   "outputs": [],
   "source": [
    "def ttest(alfa, data_1, data_2, column):\n",
    "    alpha = alfa # критический уровень статистической значимости\n",
    "    results = st.ttest_ind(data_1[column], \n",
    "           data_2[column], equal_var = False)\n",
    "    print('p-значение:', results.pvalue)\n",
    "    if (results.pvalue < alpha):\n",
    "        print(\"Отвергаем нулевую гипотезу\")\n",
    "    else:\n",
    "        print(\"Не получилось отвергнуть нулевую гипотезу\")"
   ]
  },
  {
   "cell_type": "code",
   "execution_count": 5,
   "id": "5073478e-8a09-426c-ba25-661363fae825",
   "metadata": {},
   "outputs": [],
   "source": [
    "def test_mannwhitneyu(alfa, data_1, data_2, column):\n",
    "    alpha = alfa # критический уровень статистической значимости\n",
    "    results = st.mannwhitneyu(data_1[column], \n",
    "           data_2[column], alternative = 'two-sided')\n",
    "    print('p-значение:', results.pvalue)\n",
    "    if (results.pvalue < alpha):\n",
    "        print(\"Отвергаем нулевую гипотезу\")\n",
    "    else:\n",
    "        print(\"Не получилось отвергнуть нулевую гипотезу\")"
   ]
  },
  {
   "cell_type": "markdown",
   "id": "25cbdd65-2c42-42f0-8cb9-a642eb4347a5",
   "metadata": {},
   "source": [
    "### 2. Выгрузка данных по условию"
   ]
  },
  {
   "cell_type": "code",
   "execution_count": 6,
   "id": "cb9f07dc-edcd-4a3b-a8d2-0c4bc14bb0fb",
   "metadata": {},
   "outputs": [],
   "source": [
    "# устанавливаем параметры\n",
    "connection = {\n",
    "    'host': 'https://clickhouse.lab.karpov.courses',\n",
    "    'password': 'dpo_python_2020',\n",
    "    'user': 'student',\n",
    "    'database': 'simulator_20230220'\n",
    "}"
   ]
  },
  {
   "cell_type": "code",
   "execution_count": 7,
   "id": "0fc90d57-0f39-4858-a714-a5ddc6c870d8",
   "metadata": {},
   "outputs": [],
   "source": [
    "# Выгрузка данных по условию: '2022-01-31' по '2023-02-06' и 1 и 2 экспериментальные группы\n",
    "query = '''\n",
    "select distinct t1.user_id as iser_id, CTR, linearized_likes, exp_group, views, likes from\n",
    "(select user_id,\n",
    "       countIf(action = 'view') as views, \n",
    "       countIf(action = 'like') as likes,\n",
    "       countIf(user_id, action = 'like') / countIf(user_id, action='view') as CTR,\n",
    "       countIf(user_id, action = 'like') - (select  countIf(user_id, action = 'like') / countIf(user_id, action='view')\n",
    "                                            from simulator_20230220.feed_actions \n",
    "                                            where  toDate(time) >= '2023-01-31' and toDate(time) <= '2023-02-06' and exp_group in (1)) * countIf(user_id, action='view')  as linearized_likes\n",
    "from simulator_20230220.feed_actions \n",
    "group by user_id \n",
    "having  toDate(time) >= '2023-01-31' and toDate(time) <= '2023-02-06' and exp_group in (1,2)) t2\n",
    "join \n",
    "(select user_id, exp_group from simulator_20230220.feed_actions) t1\n",
    "using user_id\n",
    "\n",
    "'''"
   ]
  },
  {
   "cell_type": "code",
   "execution_count": 8,
   "id": "110ef957-5167-44c2-b650-2a4a9899251b",
   "metadata": {},
   "outputs": [],
   "source": [
    "df_group_1_2 = select(query)"
   ]
  },
  {
   "cell_type": "code",
   "execution_count": 9,
   "id": "b3d992f6-d612-4d3a-b08c-deaa4f83a5b7",
   "metadata": {},
   "outputs": [],
   "source": [
    "# Выгрузка данных по условию: '2022-01-31' по '2023-02-06' и 0 и 3 экспериментальные группы\n",
    "query = '''\n",
    "select distinct t1.user_id as iser_id, CTR, linearized_likes, exp_group, views, likes from\n",
    "(select user_id,\n",
    "       countIf(action = 'view') as views, \n",
    "       countIf(action = 'like') as likes,\n",
    "       countIf(user_id, action = 'like') / countIf(user_id, action='view') as CTR,\n",
    "       countIf(user_id, action = 'like') - (select  countIf(user_id, action = 'like') / countIf(user_id, action='view')\n",
    "                                            from simulator_20230220.feed_actions \n",
    "                                            where  toDate(time) >= '2023-01-31' and toDate(time) <= '2023-02-06' and exp_group in (0)) * countIf(user_id, action='view')  as linearized_likes\n",
    "from simulator_20230220.feed_actions \n",
    "group by user_id \n",
    "having  toDate(time) >= '2023-01-31' and toDate(time) <= '2023-02-06' and exp_group in (0,3)\n",
    "order by views desc) t2\n",
    "join \n",
    "(select user_id, exp_group from simulator_20230220.feed_actions) t1\n",
    "using user_id\n",
    "\n",
    "'''"
   ]
  },
  {
   "cell_type": "code",
   "execution_count": 10,
   "id": "16754cbf-60cd-4fc7-b5d4-8174fd39968b",
   "metadata": {},
   "outputs": [],
   "source": [
    "df_group_0_3 = select(query)"
   ]
  },
  {
   "cell_type": "code",
   "execution_count": 11,
   "id": "2dc5b3cf-0bbc-41c4-b8fa-648b118951a1",
   "metadata": {},
   "outputs": [
    {
     "name": "stdout",
     "output_type": "stream",
     "text": [
      "<class 'pandas.core.frame.DataFrame'>\n",
      "RangeIndex: 20048 entries, 0 to 20047\n",
      "Data columns (total 6 columns):\n",
      " #   Column            Non-Null Count  Dtype  \n",
      "---  ------            --------------  -----  \n",
      " 0   iser_id           20048 non-null  uint32 \n",
      " 1   CTR               20048 non-null  float64\n",
      " 2   linearized_likes  20048 non-null  float64\n",
      " 3   exp_group         20048 non-null  int8   \n",
      " 4   views             20048 non-null  uint64 \n",
      " 5   likes             20048 non-null  uint64 \n",
      "dtypes: float64(2), int8(1), uint32(1), uint64(2)\n",
      "memory usage: 724.5 KB\n",
      "\n"
     ]
    },
    {
     "data": {
      "text/html": [
       "<div>\n",
       "<style scoped>\n",
       "    .dataframe tbody tr th:only-of-type {\n",
       "        vertical-align: middle;\n",
       "    }\n",
       "\n",
       "    .dataframe tbody tr th {\n",
       "        vertical-align: top;\n",
       "    }\n",
       "\n",
       "    .dataframe thead th {\n",
       "        text-align: right;\n",
       "    }\n",
       "</style>\n",
       "<table border=\"1\" class=\"dataframe\">\n",
       "  <thead>\n",
       "    <tr style=\"text-align: right;\">\n",
       "      <th></th>\n",
       "      <th>iser_id</th>\n",
       "      <th>CTR</th>\n",
       "      <th>linearized_likes</th>\n",
       "      <th>exp_group</th>\n",
       "      <th>views</th>\n",
       "      <th>likes</th>\n",
       "    </tr>\n",
       "  </thead>\n",
       "  <tbody>\n",
       "    <tr>\n",
       "      <th>0</th>\n",
       "      <td>134465</td>\n",
       "      <td>0.222520</td>\n",
       "      <td>5.327926</td>\n",
       "      <td>3</td>\n",
       "      <td>373</td>\n",
       "      <td>83</td>\n",
       "    </tr>\n",
       "    <tr>\n",
       "      <th>1</th>\n",
       "      <td>26400</td>\n",
       "      <td>0.242424</td>\n",
       "      <td>12.410287</td>\n",
       "      <td>0</td>\n",
       "      <td>363</td>\n",
       "      <td>88</td>\n",
       "    </tr>\n",
       "    <tr>\n",
       "      <th>2</th>\n",
       "      <td>29014</td>\n",
       "      <td>0.179641</td>\n",
       "      <td>-9.550865</td>\n",
       "      <td>3</td>\n",
       "      <td>334</td>\n",
       "      <td>60</td>\n",
       "    </tr>\n",
       "    <tr>\n",
       "      <th>3</th>\n",
       "      <td>130163</td>\n",
       "      <td>0.151057</td>\n",
       "      <td>-18.926157</td>\n",
       "      <td>0</td>\n",
       "      <td>331</td>\n",
       "      <td>50</td>\n",
       "    </tr>\n",
       "    <tr>\n",
       "      <th>4</th>\n",
       "      <td>136309</td>\n",
       "      <td>0.165563</td>\n",
       "      <td>-12.887309</td>\n",
       "      <td>0</td>\n",
       "      <td>302</td>\n",
       "      <td>50</td>\n",
       "    </tr>\n",
       "  </tbody>\n",
       "</table>\n",
       "</div>"
      ],
      "text/plain": [
       "   iser_id       CTR  linearized_likes  exp_group  views  likes\n",
       "0   134465  0.222520          5.327926          3    373     83\n",
       "1    26400  0.242424         12.410287          0    363     88\n",
       "2    29014  0.179641         -9.550865          3    334     60\n",
       "3   130163  0.151057        -18.926157          0    331     50\n",
       "4   136309  0.165563        -12.887309          0    302     50"
      ]
     },
     "metadata": {},
     "output_type": "display_data"
    },
    {
     "name": "stdout",
     "output_type": "stream",
     "text": [
      "\n",
      "Дубликатов 0 или 0 %\n"
     ]
    }
   ],
   "source": [
    "general_information(df_group_0_3)"
   ]
  },
  {
   "cell_type": "markdown",
   "id": "2d89ea75-deee-4e40-b4ae-d5597e2c8202",
   "metadata": {},
   "source": [
    "### 3. Проверка гипотез t-test и тестом Манна-Уитни"
   ]
  },
  {
   "cell_type": "markdown",
   "id": "436fb656-e6e8-475b-8a45-24ee3217fef5",
   "metadata": {},
   "source": [
    "Вместо того, чтобы заталкивать в тест «поюзерные» CTR, можно сконструировать другую метрику и анализировать ее, но при этом гарантируется (в отличие от сглаженного CTR), что если тест на этой другой метрике «прокрасится» и увидит изменения, значит изменения есть и в метрике исходной (то есть в лайках на пользователя и в пользовательских CTR Считаем общий CTR в контрольной группе 𝐶𝑇𝑅𝑐𝑜𝑛𝑡𝑟𝑜𝑙=𝑠𝑢𝑚(𝑙𝑖𝑘𝑒𝑠)/𝑠𝑢𝑚(𝑣𝑖𝑒𝑤𝑠) Посчитаем в обеих группах поюзерную метрику 𝑙𝑖𝑛𝑒𝑎𝑟𝑖𝑧𝑒𝑑_𝑙𝑖𝑘𝑒𝑠=𝑙𝑖𝑘𝑒𝑠−𝐶𝑇𝑅𝑐𝑜𝑛𝑡𝑟𝑜𝑙∗𝑣𝑖𝑒𝑤𝑠 После чего сравним t-тестом отличия в группах по метрике 𝑙𝑖𝑛𝑒𝑎𝑟𝑖𝑧𝑒𝑑_𝑙𝑖𝑘𝑒𝑠"
   ]
  },
  {
   "cell_type": "markdown",
   "id": "87ab4b51-b884-4656-80a2-ac5015324d24",
   "metadata": {},
   "source": [
    "#### 3.1. Проанализируем тест между группами 1 и 2 по метрике линеаризованных лайков"
   ]
  },
  {
   "cell_type": "markdown",
   "id": "2f34b78c-53d4-4c18-ae7a-e724c48e925e",
   "metadata": {},
   "source": [
    "##### Нулевая гипотеза(Н0) – средние двух выборок равны (метрика 𝑙𝑖𝑛𝑒𝑎𝑟𝑖𝑧𝑒𝑑_𝑙𝑖𝑘𝑒𝑠), альтернативная гипотеза(Н1) – метрике 𝑙𝑖𝑛𝑒𝑎𝑟𝑖𝑧𝑒𝑑_𝑙𝑖𝑘𝑒𝑠 2 и 3 экспериментальной группы различаются."
   ]
  },
  {
   "cell_type": "code",
   "execution_count": 12,
   "id": "0d7be0a1-7203-4684-8b20-b3bb3493eaa8",
   "metadata": {},
   "outputs": [
    {
     "name": "stdout",
     "output_type": "stream",
     "text": [
      "p-значение: 9.439432187037712e-10\n",
      "Отвергаем нулевую гипотезу\n"
     ]
    }
   ],
   "source": [
    "ttest(0.05, df_group_1_2.query('exp_group == 1'), df_group_1_2.query('exp_group == 2'), 'linearized_likes')"
   ]
  },
  {
   "cell_type": "markdown",
   "id": "dc42fa8e-d67e-45cc-8cd4-a0e251715549",
   "metadata": {},
   "source": [
    "##### Нулевая гипотеза(Н0) – нет статистически значимого различия метрики 𝑙𝑖𝑛𝑒𝑎𝑟𝑖𝑧𝑒𝑑_𝑙𝑖𝑘𝑒𝑠 между группами, альтернативная гипотеза(Н1) – разница в метрике 𝑙𝑖𝑛𝑒𝑎𝑟𝑖𝑧𝑒𝑑_𝑙𝑖𝑘𝑒𝑠 между группами статистически значима.¶"
   ]
  },
  {
   "cell_type": "code",
   "execution_count": 13,
   "id": "c0d68a2e-657b-47d2-8614-670acad45c58",
   "metadata": {},
   "outputs": [
    {
     "name": "stdout",
     "output_type": "stream",
     "text": [
      "p-значение: 9.404319579641738e-27\n",
      "Отвергаем нулевую гипотезу\n"
     ]
    }
   ],
   "source": [
    "test_mannwhitneyu(0.05, df_group_1_2.query('exp_group == 1'), df_group_1_2.query('exp_group == 2'), 'linearized_likes')"
   ]
  },
  {
   "cell_type": "markdown",
   "id": "9a54f7c7-91d2-4179-8f9a-7c44011d2c37",
   "metadata": {},
   "source": [
    "t-test - показал противоположный результат после применения линеаризованных лайков. Р-значение было: 6.0376484617779035e-56 после применения теста Манна-Уитни на исходных данных (данные взяты из задания 2), т.е. 𝑝−𝑣𝑎𝑙𝑢𝑒 стало меньше"
   ]
  },
  {
   "cell_type": "markdown",
   "id": "d840f256-9b2d-4220-bbc1-b860ceadd6ec",
   "metadata": {},
   "source": [
    "#### 3.2. Посмотрим на распределения метрики 𝑙𝑖𝑛𝑒𝑎𝑟𝑖𝑧𝑒𝑑_𝑙𝑖𝑘𝑒𝑠 и CTR"
   ]
  },
  {
   "cell_type": "code",
   "execution_count": 14,
   "id": "84664e5c-2faa-4d0a-ac82-6c1e605a2ad4",
   "metadata": {},
   "outputs": [
    {
     "data": {
      "text/plain": [
       "Text(0.5, 1.0, 'Распределения получившихся CTR по метрике линеаризованных лайков')"
      ]
     },
     "execution_count": 14,
     "metadata": {},
     "output_type": "execute_result"
    },
    {
     "data": {
      "image/png": "[encoded data removed]",
      "text/plain": [
       "<Figure size 432x288 with 1 Axes>"
      ]
     },
     "metadata": {
      "needs_background": "light"
     },
     "output_type": "display_data"
    }
   ],
   "source": [
    "groups = sns.histplot(data = df_group_1_2, \n",
    "              x='linearized_likes', \n",
    "              hue='exp_group', \n",
    "              palette = ['r', 'b'],\n",
    "              alpha=0.5,\n",
    "              kde=False)\n",
    "sns.despine()\n",
    "plt.title('Распределения получившихся CTR по метрике линеаризованных лайков')"
   ]
  },
  {
   "cell_type": "code",
   "execution_count": 15,
   "id": "3afbd2e2-4231-4c5c-9e0b-770dcd138935",
   "metadata": {},
   "outputs": [
    {
     "data": {
      "text/plain": [
       "Text(0.5, 1.0, 'Распределения получившихся CTR до  применения поюзерной метрики')"
      ]
     },
     "execution_count": 15,
     "metadata": {},
     "output_type": "execute_result"
    },
    {
     "data": {
      "image/png": "[encoded data removed]",
      "text/plain": [
       "<Figure size 432x288 with 1 Axes>"
      ]
     },
     "metadata": {
      "needs_background": "light"
     },
     "output_type": "display_data"
    }
   ],
   "source": [
    "groups = sns.histplot(data = df_group_1_2, \n",
    "              x='CTR', \n",
    "              hue='exp_group', \n",
    "              palette = ['r', 'b'],\n",
    "              alpha=0.5,\n",
    "              kde=False)\n",
    "sns.despine()\n",
    "plt.title('Распределения получившихся CTR до  применения поюзерной метрики')"
   ]
  },
  {
   "cell_type": "markdown",
   "id": "d0182e9a-9faf-4930-abdb-44fe5967e137",
   "metadata": {},
   "source": [
    "У первой группы распеределение стало похоже на нормальное"
   ]
  },
  {
   "cell_type": "markdown",
   "id": "b5fec52d-8bf2-4a1c-b4bc-ccfec3c67f92",
   "metadata": {},
   "source": [
    "#### 3.3. Проанализируем тест между группами 0 и 3 по метрике линеаризованных лайков и CTR "
   ]
  },
  {
   "cell_type": "markdown",
   "id": "185302c6-af1e-4bc6-9c37-14078a797fc7",
   "metadata": {},
   "source": [
    "##### Нулевая гипотеза(Н0) – средние двух выборок равны (метрика 𝑙𝑖𝑛𝑒𝑎𝑟𝑖𝑧𝑒𝑑_𝑙𝑖𝑘𝑒𝑠), альтернативная гипотеза(Н1) – метрике 𝑙𝑖𝑛𝑒𝑎𝑟𝑖𝑧𝑒𝑑_𝑙𝑖𝑘𝑒𝑠 0 и 3 экспериментальной группы различаются."
   ]
  },
  {
   "cell_type": "code",
   "execution_count": 16,
   "id": "236d24ec-6a1a-42d9-b886-d31c674cdd83",
   "metadata": {},
   "outputs": [
    {
     "name": "stdout",
     "output_type": "stream",
     "text": [
      "p-значение: 5.491424947968532e-52\n",
      "Отвергаем нулевую гипотезу\n"
     ]
    }
   ],
   "source": [
    "ttest(0.05, df_group_0_3.query('exp_group == 0'), df_group_0_3.query('exp_group == 3'), 'linearized_likes')"
   ]
  },
  {
   "cell_type": "markdown",
   "id": "f58cb85f-5acf-4905-8b58-0da9ac6ab4ac",
   "metadata": {},
   "source": [
    "##### Нулевая гипотеза(Н0) – нет статистически значимого различия метрики 𝑙𝑖𝑛𝑒𝑎𝑟𝑖𝑧𝑒𝑑_𝑙𝑖𝑘𝑒𝑠 между группами, альтернативная гипотеза(Н1) – разница в метрике 𝑙𝑖𝑛𝑒𝑎𝑟𝑖𝑧𝑒𝑑_𝑙𝑖𝑘𝑒𝑠 между группами статистически значима."
   ]
  },
  {
   "cell_type": "code",
   "execution_count": 17,
   "id": "2e2e34ca-5b61-41d6-a64a-ea5c0fbe9243",
   "metadata": {},
   "outputs": [
    {
     "name": "stdout",
     "output_type": "stream",
     "text": [
      "p-значение: 1.1517315029786597e-63\n",
      "Отвергаем нулевую гипотезу\n"
     ]
    }
   ],
   "source": [
    "test_mannwhitneyu(0.05, df_group_0_3.query('exp_group == 0'), df_group_0_3.query('exp_group == 3'), 'linearized_likes')"
   ]
  },
  {
   "cell_type": "markdown",
   "id": "00dce400-0f68-4e10-ba2b-4efa71c71e84",
   "metadata": {},
   "source": [
    "В обоих случаях не принимаем нулевую гипотезу"
   ]
  },
  {
   "cell_type": "markdown",
   "id": "d81d1b28-ba77-4876-8805-5ee7fee53ce0",
   "metadata": {},
   "source": [
    "#### 3.4. Проанализируем тесты между группами 0 и 3 по метрике CTR на исходных данных"
   ]
  },
  {
   "cell_type": "code",
   "execution_count": 18,
   "id": "8e2a6a3a-c245-4093-8105-f7f42d9c3c8c",
   "metadata": {},
   "outputs": [
    {
     "name": "stdout",
     "output_type": "stream",
     "text": [
      "p-значение: 1.055849414662529e-43\n",
      "Отвергаем нулевую гипотезу\n"
     ]
    }
   ],
   "source": [
    "ttest(0.05, df_group_0_3.query('exp_group == 0'), df_group_0_3.query('exp_group == 3'), 'CTR')"
   ]
  },
  {
   "cell_type": "code",
   "execution_count": 19,
   "id": "4d0baee9-6b23-4802-b4cf-6a3949ebe7b1",
   "metadata": {},
   "outputs": [
    {
     "name": "stdout",
     "output_type": "stream",
     "text": [
      "p-значение: 1.1952055473582936e-57\n",
      "Отвергаем нулевую гипотезу\n"
     ]
    }
   ],
   "source": [
    "test_mannwhitneyu(0.05, df_group_0_3.query('exp_group == 0'), df_group_0_3.query('exp_group == 3'), 'CTR')"
   ]
  },
  {
   "cell_type": "markdown",
   "id": "6c96e2f0-5fed-41de-9520-18bae3b6e840",
   "metadata": {},
   "source": [
    "Во всех случаях будем считать, что метрики у двух групп отличаются, p-значение после применения новой метрики 𝑝−𝑣𝑎𝑙𝑢𝑒 стало меньше"
   ]
  },
  {
   "cell_type": "markdown",
   "id": "db401240-5571-44ed-aee8-3fa91c743bfc",
   "metadata": {},
   "source": [
    "#### 3.5. Посмотрим на распределения метрики 𝑙𝑖𝑛𝑒𝑎𝑟𝑖𝑧𝑒𝑑_𝑙𝑖𝑘𝑒𝑠 и CTR"
   ]
  },
  {
   "cell_type": "code",
   "execution_count": 20,
   "id": "23b89684-d4bb-451e-865c-75feac0a7099",
   "metadata": {},
   "outputs": [
    {
     "data": {
      "text/plain": [
       "Text(0.5, 1.0, 'Распределения получившихся CTR по метрике линеаризованных лайков')"
      ]
     },
     "execution_count": 20,
     "metadata": {},
     "output_type": "execute_result"
    },
    {
     "data": {
      "image/png": "[encoded data removed]",
      "text/plain": [
       "<Figure size 432x288 with 1 Axes>"
      ]
     },
     "metadata": {
      "needs_background": "light"
     },
     "output_type": "display_data"
    }
   ],
   "source": [
    "groups = sns.histplot(data = df_group_0_3, \n",
    "              x='linearized_likes', \n",
    "              hue='exp_group', \n",
    "              palette = ['r', 'b'],\n",
    "              alpha=0.5,\n",
    "              kde=False)\n",
    "sns.despine()\n",
    "plt.title('Распределения получившихся CTR по метрике линеаризованных лайков')"
   ]
  },
  {
   "cell_type": "code",
   "execution_count": 21,
   "id": "41843283-4537-44be-b1a9-903ac4be24df",
   "metadata": {},
   "outputs": [
    {
     "data": {
      "text/plain": [
       "Text(0.5, 1.0, 'Распределения получившихся CTR')"
      ]
     },
     "execution_count": 21,
     "metadata": {},
     "output_type": "execute_result"
    },
    {
     "data": {
      "image/png": "[encoded data removed]",
      "text/plain": [
       "<Figure size 432x288 with 1 Axes>"
      ]
     },
     "metadata": {
      "needs_background": "light"
     },
     "output_type": "display_data"
    }
   ],
   "source": [
    "groups = sns.histplot(data = df_group_0_3, \n",
    "              x='CTR', \n",
    "              hue='exp_group', \n",
    "              palette = ['r', 'b'],\n",
    "              alpha=0.5,\n",
    "              kde=False)\n",
    "sns.despine()\n",
    "plt.title('Распределения получившихся CTR')"
   ]
  },
  {
   "cell_type": "markdown",
   "id": "58dfaa57-86aa-4e39-af4b-bf6da7a3defe",
   "metadata": {},
   "source": [
    "Распределения  стали ближе к нормальным"
   ]
  },
  {
   "cell_type": "markdown",
   "id": "f2babc00-2ac9-4a50-9806-1184022a3787",
   "metadata": {},
   "source": [
    "#### Вывод\n",
    " Проведение тестов на метрике линеаризованных лайков показало, что отличие в группах есть. P−𝑣𝑎𝑙𝑢𝑒 стали меньше, если сравнивать с тестами проведенными на исходных данных (CTR)"
   ]
  },
  {
   "cell_type": "code",
   "execution_count": null,
   "id": "f8843066-463a-4a34-8f1e-10683cc14f7c",
   "metadata": {},
   "outputs": [],
   "source": []
  }
 ],
 "metadata": {
  "kernelspec": {
   "display_name": "Python 3 (ipykernel)",
   "language": "python",
   "name": "python3"
  },
  "language_info": {
   "codemirror_mode": {
    "name": "ipython",
    "version": 3
   },
   "file_extension": ".py",
   "mimetype": "text/x-python",
   "name": "python",
   "nbconvert_exporter": "python",
   "pygments_lexer": "ipython3",
   "version": "3.8.10"
  }
 },
 "nbformat": 4,
 "nbformat_minor": 5
}
