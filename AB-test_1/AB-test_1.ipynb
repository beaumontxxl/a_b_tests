{
 "cells": [
  {
   "cell_type": "markdown",
   "id": "8a6d00ce-c211-4167-87e5-4899c81e21e7",
   "metadata": {},
   "source": [
    "## Проведение АВ-теста"
   ]
  },
  {
   "cell_type": "markdown",
   "id": "01b31e5f-5a72-4c36-a7ed-0cf05a837d2b",
   "metadata": {},
   "source": [
    "Необходимо проанализировать результаты эксперимента, которые были проведены вместе с командой дата сайентистов. Эксперимент проходил с 2023-01-31 по 2023-02-06 включительно. Для эксперимента были задействованы 2 и 1 группы. В группе 2 был использован один из новых алгоритмов рекомендации постов, группа 1 использовалась в качестве контроля."
   ]
  },
  {
   "cell_type": "markdown",
   "id": "b46d4d9f-65d2-45a0-947e-3480e1150173",
   "metadata": {},
   "source": [
    "## 1. Загрузка библиотек"
   ]
  },
  {
   "cell_type": "code",
   "execution_count": 1,
   "id": "36ffc7fe-fa2f-4ae4-9438-ed58acf9902c",
   "metadata": {},
   "outputs": [],
   "source": [
    "import pandas as pd\n",
    "import numpy as np\n",
    "import matplotlib.pyplot as plt\n",
    "from scipy import stats as st\n",
    "import seaborn as sns\n",
    "import pandahouse as ph\n",
    "import random"
   ]
  },
  {
   "cell_type": "markdown",
   "id": "dd1a670b-b4f2-4f08-9e79-30e06b9c497b",
   "metadata": {},
   "source": [
    "### 2. Выгрузка данных по условию"
   ]
  },
  {
   "cell_type": "code",
   "execution_count": 2,
   "id": "1b43e49b-3a32-4a0e-be5f-782db750b2bb",
   "metadata": {},
   "outputs": [],
   "source": [
    "# функция для изучения общей информации о датасетах\n",
    "def general_information(data):\n",
    "    data.info()\n",
    "    print()\n",
    "    display(data.head())\n",
    "    print()\n",
    "    print('Дубликатов', data.duplicated().sum(), 'или', round(data.duplicated().sum() / len(data) * 100), '%')"
   ]
  },
  {
   "cell_type": "code",
   "execution_count": 3,
   "id": "8c7885ca-06e0-4ce7-a2c4-eea27d5eb29e",
   "metadata": {},
   "outputs": [],
   "source": [
    "# функция для выполнения запосов\n",
    "def select(q):\n",
    "    return ph.read_clickhouse(q, connection=connection)"
   ]
  },
  {
   "cell_type": "code",
   "execution_count": 4,
   "id": "55621b84-54d4-464b-8e48-e41eabc0811f",
   "metadata": {},
   "outputs": [],
   "source": [
    "def ttest(alfa, data_1, data_2, column):\n",
    "    alpha = alfa # критический уровень статистической значимости\n",
    "    results = st.ttest_ind(data_1[column], \n",
    "           data_2[column], equal_var = False)\n",
    "    print('p-значение:', results.pvalue)\n",
    "    if (results.pvalue < alpha):\n",
    "        print(\"Отвергаем нулевую гипотезу\")\n",
    "    else:\n",
    "        print(\"Не получилось отвергнуть нулевую гипотезу\")"
   ]
  },
  {
   "cell_type": "code",
   "execution_count": 5,
   "id": "a89ba419-11af-466c-a988-970793e694b5",
   "metadata": {},
   "outputs": [],
   "source": [
    "def test_mannwhitneyu(alfa, data_1, data_2, column):\n",
    "    alpha = alfa # критический уровень статистической значимости\n",
    "    results = st.mannwhitneyu(data_1[column], \n",
    "           data_2[column], alternative = 'two-sided')\n",
    "    print('p-значение:', results.pvalue)\n",
    "    if (results.pvalue < alpha):\n",
    "        print(\"Отвергаем нулевую гипотезу\")\n",
    "    else:\n",
    "        print(\"Не получилось отвергнуть нулевую гипотезу\")"
   ]
  },
  {
   "cell_type": "code",
   "execution_count": 6,
   "id": "f5ecf762-bb23-4895-96a7-714ca14e845c",
   "metadata": {},
   "outputs": [],
   "source": [
    "# устанавливаем параметры\n",
    "connection = {\n",
    "    'host': 'https://clickhouse.lab.karpov.courses',\n",
    "    'password': 'dpo_python_2020',\n",
    "    'user': 'student',\n",
    "    'database': 'simulator_20230220'\n",
    "}"
   ]
  },
  {
   "cell_type": "code",
   "execution_count": 7,
   "id": "cbd49bce-8339-41d3-96bf-83883a679f16",
   "metadata": {},
   "outputs": [],
   "source": [
    "# Выгрузка данных по условию: '2022-01-31' по '2023-02-06' и 2 и 1 экспериментальные группы\n",
    "query = '''\n",
    "select distinct t1.user_id as iser_id, CTR, exp_group from\n",
    "(select user_id,\n",
    "       countIf(action = 'view') as views, \n",
    "       countIf(action = 'like') as likes,\n",
    "       countIf(user_id, action = 'like') / countIf(user_id, action='view') as CTR\n",
    "from {db}.feed_actions \n",
    "group by user_id \n",
    "having  toDate(time) >= '2023-01-31' and toDate(time) <= '2023-02-06' and exp_group in (1,2)\n",
    "order by views desc) t2\n",
    "join \n",
    "(select user_id, exp_group from {db}.feed_actions) t1\n",
    "using user_id\n",
    "\n",
    "'''"
   ]
  },
  {
   "cell_type": "code",
   "execution_count": 8,
   "id": "521e5740-199f-4fd3-9d3d-522097a5b19d",
   "metadata": {},
   "outputs": [],
   "source": [
    "df_group = select(query)  # сохраняем данныe по условию: '2022-01-24' по '2023-01-30' и 1 и 2 экспериментальных групп"
   ]
  },
  {
   "cell_type": "code",
   "execution_count": 9,
   "id": "36c99bcd-1924-4678-b048-56cb1f1f1cfc",
   "metadata": {},
   "outputs": [
    {
     "name": "stdout",
     "output_type": "stream",
     "text": [
      "<class 'pandas.core.frame.DataFrame'>\n",
      "RangeIndex: 20031 entries, 0 to 20030\n",
      "Data columns (total 3 columns):\n",
      " #   Column     Non-Null Count  Dtype  \n",
      "---  ------     --------------  -----  \n",
      " 0   iser_id    20031 non-null  uint32 \n",
      " 1   CTR        20031 non-null  float64\n",
      " 2   exp_group  20031 non-null  int8   \n",
      "dtypes: float64(1), int8(1), uint32(1)\n",
      "memory usage: 254.4 KB\n",
      "\n"
     ]
    },
    {
     "data": {
      "text/html": [
       "<div>\n",
       "<style scoped>\n",
       "    .dataframe tbody tr th:only-of-type {\n",
       "        vertical-align: middle;\n",
       "    }\n",
       "\n",
       "    .dataframe tbody tr th {\n",
       "        vertical-align: top;\n",
       "    }\n",
       "\n",
       "    .dataframe thead th {\n",
       "        text-align: right;\n",
       "    }\n",
       "</style>\n",
       "<table border=\"1\" class=\"dataframe\">\n",
       "  <thead>\n",
       "    <tr style=\"text-align: right;\">\n",
       "      <th></th>\n",
       "      <th>iser_id</th>\n",
       "      <th>CTR</th>\n",
       "      <th>exp_group</th>\n",
       "    </tr>\n",
       "  </thead>\n",
       "  <tbody>\n",
       "    <tr>\n",
       "      <th>0</th>\n",
       "      <td>132276</td>\n",
       "      <td>0.093458</td>\n",
       "      <td>2</td>\n",
       "    </tr>\n",
       "    <tr>\n",
       "      <th>1</th>\n",
       "      <td>130522</td>\n",
       "      <td>0.081250</td>\n",
       "      <td>2</td>\n",
       "    </tr>\n",
       "    <tr>\n",
       "      <th>2</th>\n",
       "      <td>111930</td>\n",
       "      <td>0.122186</td>\n",
       "      <td>1</td>\n",
       "    </tr>\n",
       "    <tr>\n",
       "      <th>3</th>\n",
       "      <td>24486</td>\n",
       "      <td>0.154605</td>\n",
       "      <td>1</td>\n",
       "    </tr>\n",
       "    <tr>\n",
       "      <th>4</th>\n",
       "      <td>132375</td>\n",
       "      <td>0.102310</td>\n",
       "      <td>2</td>\n",
       "    </tr>\n",
       "  </tbody>\n",
       "</table>\n",
       "</div>"
      ],
      "text/plain": [
       "   iser_id       CTR  exp_group\n",
       "0   132276  0.093458          2\n",
       "1   130522  0.081250          2\n",
       "2   111930  0.122186          1\n",
       "3    24486  0.154605          1\n",
       "4   132375  0.102310          2"
      ]
     },
     "metadata": {},
     "output_type": "display_data"
    },
    {
     "name": "stdout",
     "output_type": "stream",
     "text": [
      "\n",
      "Дубликатов 0 или 0 %\n"
     ]
    }
   ],
   "source": [
    "general_information(df_group)  # изучим общую информацию о датасете"
   ]
  },
  {
   "cell_type": "markdown",
   "id": "8d2de3df-baa3-47da-8486-5762431e76b5",
   "metadata": {},
   "source": [
    "С датафреймом все хорошо, можно работать"
   ]
  },
  {
   "cell_type": "markdown",
   "id": "a941baf0-e5de-422d-b959-3b506a231e2d",
   "metadata": {},
   "source": [
    "### 3. Проверка гипотез"
   ]
  },
  {
   "cell_type": "code",
   "execution_count": 10,
   "id": "76067569-85c2-474d-bea6-9c86a9a2cec5",
   "metadata": {},
   "outputs": [
    {
     "data": {
      "text/html": [
       "<div>\n",
       "<style scoped>\n",
       "    .dataframe tbody tr th:only-of-type {\n",
       "        vertical-align: middle;\n",
       "    }\n",
       "\n",
       "    .dataframe tbody tr th {\n",
       "        vertical-align: top;\n",
       "    }\n",
       "\n",
       "    .dataframe thead th {\n",
       "        text-align: right;\n",
       "    }\n",
       "</style>\n",
       "<table border=\"1\" class=\"dataframe\">\n",
       "  <thead>\n",
       "    <tr style=\"text-align: right;\">\n",
       "      <th></th>\n",
       "      <th>iser_id</th>\n",
       "    </tr>\n",
       "    <tr>\n",
       "      <th>exp_group</th>\n",
       "      <th></th>\n",
       "    </tr>\n",
       "  </thead>\n",
       "  <tbody>\n",
       "    <tr>\n",
       "      <th>1</th>\n",
       "      <td>10079</td>\n",
       "    </tr>\n",
       "    <tr>\n",
       "      <th>2</th>\n",
       "      <td>9952</td>\n",
       "    </tr>\n",
       "  </tbody>\n",
       "</table>\n",
       "</div>"
      ],
      "text/plain": [
       "           iser_id\n",
       "exp_group         \n",
       "1            10079\n",
       "2             9952"
      ]
     },
     "execution_count": 10,
     "metadata": {},
     "output_type": "execute_result"
    }
   ],
   "source": [
    "df_group.groupby(['exp_group']).agg({'iser_id':'count'})"
   ]
  },
  {
   "cell_type": "markdown",
   "id": "f4a9b70a-cc84-4aef-b435-fa7cd6804b4b",
   "metadata": {},
   "source": [
    "В одной выборке 10079 наблюдений, в другой 9952, можно считать, что одинаковое количество,  укажем критический уровень статистической значимости - 0.05"
   ]
  },
  {
   "cell_type": "markdown",
   "id": "527e4a14-b62f-4649-967f-1544cb5c326c",
   "metadata": {},
   "source": [
    "#### 3.1. Проверка гипотез на исходных данных"
   ]
  },
  {
   "cell_type": "markdown",
   "id": "ffdfa235-cf2d-4a8c-ad31-e9ef2af0b4ab",
   "metadata": {},
   "source": [
    "Найдем дисперсии двух выборок. Параметре equal_var, который передается на вход в st.ttest_ind и принимает значение True, если дисперсии выборок равны, и False, если не равны."
   ]
  },
  {
   "cell_type": "code",
   "execution_count": 11,
   "id": "0cc5913c-9c5e-452b-833a-4802404f4a8a",
   "metadata": {},
   "outputs": [],
   "source": [
    "var1 = np.var(df_group.query('exp_group == 1')['CTR'], ddof=1)"
   ]
  },
  {
   "cell_type": "code",
   "execution_count": 12,
   "id": "7ad1cb4b-9f6b-4e93-ab3a-adad10758811",
   "metadata": {},
   "outputs": [],
   "source": [
    "var2 = np.var(df_group.query('exp_group == 2')['CTR'], ddof=1)"
   ]
  },
  {
   "cell_type": "code",
   "execution_count": 13,
   "id": "e8eceda4-802f-431d-8867-e6a3e2437e47",
   "metadata": {},
   "outputs": [
    {
     "name": "stdout",
     "output_type": "stream",
     "text": [
      "Дисперсия группы 1: 0.0070828247094791436\n"
     ]
    }
   ],
   "source": [
    "print('Дисперсия группы 1:', var1)"
   ]
  },
  {
   "cell_type": "code",
   "execution_count": 14,
   "id": "1a5443af-f082-431d-99cf-3852e2bafb7d",
   "metadata": {},
   "outputs": [
    {
     "name": "stdout",
     "output_type": "stream",
     "text": [
      "Дисперсия группы 2: 0.02078786783139333\n"
     ]
    }
   ],
   "source": [
    "print('Дисперсия группы 2:', var2)"
   ]
  },
  {
   "cell_type": "markdown",
   "id": "e29fd477-4b42-467a-8342-8aa4e76986fa",
   "metadata": {},
   "source": [
    "#### Используем для проверки гипотезы тест t-test"
   ]
  },
  {
   "cell_type": "markdown",
   "id": "a5fcebe5-d410-4172-a991-ae85f5ae421d",
   "metadata": {},
   "source": [
    "##### Нулевая гипотеза(Н0) – средние двух выборок равны (средние пользовательские CTR равны), альтернативная гипотеза(Н1) – средние пользовательские CTR 2 и 3 экспериментальной группы различаются."
   ]
  },
  {
   "cell_type": "code",
   "execution_count": 15,
   "id": "5da660b7-8f52-43e7-94ba-a21a8fec12c6",
   "metadata": {},
   "outputs": [
    {
     "name": "stdout",
     "output_type": "stream",
     "text": [
      "p-значение: 0.4780623130874935\n",
      "Не получилось отвергнуть нулевую гипотезу\n"
     ]
    }
   ],
   "source": [
    "ttest(0.05, df_group.query('exp_group == 1'), df_group.query('exp_group == 2'), 'CTR')"
   ]
  },
  {
   "cell_type": "markdown",
   "id": "37618446-092d-4875-87a9-a7c90d7e7cfe",
   "metadata": {},
   "source": [
    "Принимаем гипотезу, что средние пользовательские CTR экспериментальных груп 1 и 2 одинаковые"
   ]
  },
  {
   "cell_type": "markdown",
   "id": "46528c56-8fd4-4a88-8fb5-e6b73d7d1698",
   "metadata": {},
   "source": [
    "#### Используем для проверки гипотезы тест Манна-Уитни"
   ]
  },
  {
   "cell_type": "markdown",
   "id": "8888f975-7fa8-4b42-bcd8-cd2d39a7f94d",
   "metadata": {},
   "source": [
    "##### Нулевая гипотеза(Н0) – нет статистически значимого различия в средних пользовательских CTR между группами, альтернативная гипотеза(Н1) – разница в средних пользовательских CTR между группами статистически значима."
   ]
  },
  {
   "cell_type": "code",
   "execution_count": 16,
   "id": "b81d04c3-67b6-41f1-8067-25b5b62f0cb4",
   "metadata": {},
   "outputs": [
    {
     "name": "stdout",
     "output_type": "stream",
     "text": [
      "p-значение: 6.0376484617779035e-56\n",
      "Отвергаем нулевую гипотезу\n"
     ]
    }
   ],
   "source": [
    "test_mannwhitneyu(0.05, df_group.query('exp_group == 1'), df_group.query('exp_group == 2'), 'CTR')"
   ]
  },
  {
   "cell_type": "markdown",
   "id": "77fcd214-d331-4a9c-aa63-b9c0d3a03fba",
   "metadata": {},
   "source": [
    "Нулевую гипотезу отвергаем, т.е. разница между группами статистически значима. Можно сделать вывод, что в новом интерфейсе пользователи стали лайкать чаще или реже"
   ]
  },
  {
   "cell_type": "markdown",
   "id": "c61db384-e3af-47df-befb-8ccf9f0e5aaf",
   "metadata": {},
   "source": [
    "#### Вывод\n",
    "t-test показал, что принимаем гипотезу, что средние пользовательские CTR экспериментальных груп 1 и 2 одинаковые. тест Манна-Уитни - нулевую гипотезу отвергаем, т.е. разница между группами статистически значима. Необходимо прjвести более глубокое исследование полученных результатов"
   ]
  },
  {
   "cell_type": "markdown",
   "id": "3adc3645-e31d-4e1d-937a-56ad5d9384c4",
   "metadata": {},
   "source": [
    "#### 3.2. Исследоание распределения двух групп"
   ]
  },
  {
   "cell_type": "markdown",
   "id": "cf9b9859-2749-4451-84e6-10ec53183b03",
   "metadata": {},
   "source": [
    "##### Проведенные два теста показали разный результат, проведем исследование, построим диаграмму распеределения среднего CTR двух групп"
   ]
  },
  {
   "cell_type": "code",
   "execution_count": 17,
   "id": "91b249df-768e-4ad2-8d69-e14efe17b5a1",
   "metadata": {},
   "outputs": [
    {
     "data": {
      "text/plain": [
       "Text(0.5, 1.0, 'Распределения получившихся CTR')"
      ]
     },
     "execution_count": 17,
     "metadata": {},
     "output_type": "execute_result"
    },
    {
     "data": {
      "image/png": "[encoded data removed]",
      "text/plain": [
       "<Figure size 432x288 with 1 Axes>"
      ]
     },
     "metadata": {
      "needs_background": "light"
     },
     "output_type": "display_data"
    }
   ],
   "source": [
    "groups = sns.histplot(data = df_group, \n",
    "              x='CTR', \n",
    "              hue='exp_group', \n",
    "              palette = ['r', 'b'],\n",
    "              alpha=0.5,\n",
    "              kde=False)\n",
    "sns.despine()\n",
    "plt.title('Распределения получившихся CTR')"
   ]
  },
  {
   "cell_type": "markdown",
   "id": "c7a65d04-3888-4139-b559-1b54a9101385",
   "metadata": {},
   "source": [
    "У второй группы, на которой был использован один из новых алгоритмов рекомендации постов, бимодалное распределение CTR. После применения новых алгоритмов рекомендации постов или совсем мало стали лайкать или очень много, нет зототой середины. У первой группы унимодальное распеределение, т.е. ближе к нормальному"
   ]
  },
  {
   "cell_type": "markdown",
   "id": "34fc449f-5d84-4c73-86a9-970c2ad55bca",
   "metadata": {},
   "source": [
    "##### Проверим методом st.shapiro(x), можно ли считать эту CTR нормально распределённой в двух группах"
   ]
  },
  {
   "cell_type": "code",
   "execution_count": 18,
   "id": "0e782e48-ee0b-49ed-843b-41741ff81e17",
   "metadata": {},
   "outputs": [
    {
     "name": "stdout",
     "output_type": "stream",
     "text": [
      "p-значение:  0.0\n",
      "Отвергаем нулевую гипотезу: распределение не нормально\n"
     ]
    },
    {
     "name": "stderr",
     "output_type": "stream",
     "text": [
      "/nfs/env/lib/python3.8/site-packages/scipy/stats/morestats.py:1760: UserWarning: p-value may not be accurate for N > 5000.\n",
      "  warnings.warn(\"p-value may not be accurate for N > 5000.\")\n"
     ]
    }
   ],
   "source": [
    "alpha = 0.05  # критический уровень статистической значимости\n",
    "\n",
    "results = st.shapiro( df_group.query('exp_group == 1')['CTR'])\n",
    "p_value = results[1]  # второе значение в массиве результатов (с индексом 1) - p-value\n",
    "\n",
    "print('p-значение: ', p_value)\n",
    "\n",
    "if p_value < alpha:\n",
    "    print('Отвергаем нулевую гипотезу: распределение не нормально')\n",
    "else:\n",
    "    print('Не получилось отвергнуть нулевую гипотезу, всё нормально') "
   ]
  },
  {
   "cell_type": "code",
   "execution_count": 19,
   "id": "d3f6db7e-61f7-42c1-9919-a9f0650e7427",
   "metadata": {},
   "outputs": [
    {
     "name": "stdout",
     "output_type": "stream",
     "text": [
      "p-значение:  0.0\n",
      "Отвергаем нулевую гипотезу: распределение не нормально\n"
     ]
    }
   ],
   "source": [
    "alpha = 0.05  # критический уровень статистической значимости\n",
    "\n",
    "results = st.shapiro( df_group.query('exp_group == 2')['CTR'])\n",
    "p_value = results[1]  # второе значение в массиве результатов (с индексом 1) - p-value\n",
    "\n",
    "print('p-значение: ', p_value)\n",
    "\n",
    "if p_value < alpha:\n",
    "    print('Отвергаем нулевую гипотезу: распределение не нормально')\n",
    "else:\n",
    "    print('Не получилось отвергнуть нулевую гипотезу, всё нормально') "
   ]
  },
  {
   "cell_type": "markdown",
   "id": "f6c1f360-933f-4ad3-8573-cb319feb9702",
   "metadata": {},
   "source": [
    "##### Оценим CTR пользователей ещё одним способом:"
   ]
  },
  {
   "cell_type": "code",
   "execution_count": 20,
   "id": "570469f2-86f8-4246-888a-575b9517ca3b",
   "metadata": {},
   "outputs": [
    {
     "data": {
      "image/png": "[encoded data removed]",
      "text/plain": [
       "<Figure size 432x288 with 1 Axes>"
      ]
     },
     "metadata": {
      "needs_background": "light"
     },
     "output_type": "display_data"
    }
   ],
   "source": [
    "x_values = pd.Series(range(0,len(df_group.query('exp_group == 2')['CTR'])))\n",
    "plt.scatter(x_values, df_group.query('exp_group == 2')['CTR'])\n",
    "plt.title('Распределения получившихся CTR')\n",
    "plt.xlabel('count')\n",
    "plt.ylabel('CTR')\n",
    "plt.show()"
   ]
  },
  {
   "cell_type": "code",
   "execution_count": 21,
   "id": "d9605299-95e8-48ad-a9ad-e01b846da9a2",
   "metadata": {},
   "outputs": [
    {
     "data": {
      "image/png": "[encoded data removed]",
      "text/plain": [
       "<Figure size 432x288 with 1 Axes>"
      ]
     },
     "metadata": {
      "needs_background": "light"
     },
     "output_type": "display_data"
    }
   ],
   "source": [
    "x_values = pd.Series(range(0,len(df_group.query('exp_group == 1')['CTR'])))\n",
    "plt.scatter(x_values, df_group.query('exp_group == 1')['CTR'])\n",
    "plt.title('Распределения получившихся CTR')\n",
    "plt.xlabel('count')\n",
    "plt.ylabel('CTR')\n",
    "plt.show()"
   ]
  },
  {
   "cell_type": "markdown",
   "id": "f78b06f6-b39d-44ae-90d8-cf1ca78ddedc",
   "metadata": {},
   "source": [
    "Обе группы имеют не нормальное распеределение средних CTR"
   ]
  },
  {
   "cell_type": "markdown",
   "id": "ff6c2460-4b4c-4c2d-9252-060fa647b016",
   "metadata": {},
   "source": [
    "Прсмотрим на динамику CTR во время эксперимента, сравним ее у двух групп"
   ]
  },
  {
   "cell_type": "code",
   "execution_count": 22,
   "id": "eaa24ab5-3ee1-4f9c-9295-4e93fd55193d",
   "metadata": {},
   "outputs": [],
   "source": [
    "# Выгрузка данных по условию: '2022-01-31' по '2023-02-06' и 2 и 3 экспериментальной группы\n",
    "query = \"\"\"\n",
    "SELECT toString(toDate(time)) as dt,\n",
    "       countIf(user_id, action = 'like')/countIf(user_id, action = 'view') AS \"CTR\",\n",
    "       exp_group      \n",
    "FROM {db}.feed_actions \n",
    "group by dt, exp_group\n",
    "having toDate(time) >= '2023-01-29' and toDate(time) <= '2023-02-08' and exp_group in (1,2)\n",
    "\"\"\""
   ]
  },
  {
   "cell_type": "code",
   "execution_count": 23,
   "id": "ea7f2592-fbf7-4494-8b24-a43d6c2ee819",
   "metadata": {},
   "outputs": [],
   "source": [
    "df = select(query)"
   ]
  },
  {
   "cell_type": "code",
   "execution_count": 24,
   "id": "41f345a6-cb35-4406-b9a7-3b9faa802335",
   "metadata": {},
   "outputs": [
    {
     "data": {
      "image/png": "[encoded data removed]",
      "text/plain": [
       "<Figure size 1080x504 with 1 Axes>"
      ]
     },
     "metadata": {
      "needs_background": "light"
     },
     "output_type": "display_data"
    }
   ],
   "source": [
    "df_plot = df.pivot_table(index = 'dt', columns = 'exp_group', values = 'CTR', aggfunc = 'sum')\n",
    "df_plot.plot(figsize = (15,7), grid = True)\n",
    "plt.title('CTR двух групп')\n",
    "x = df_plot.index \n",
    "y = df_plot.values"
   ]
  },
  {
   "cell_type": "markdown",
   "id": "20b77a97-e585-4b62-85e5-5171d1702555",
   "metadata": {},
   "source": [
    "#### Вывод\n",
    "У обеих выборок ненормальное распеределение, у второй группы, на которой был использован один из новых алгоритмов рекомендации постов, бимодалное распределение CTR.  У первой группы унимодальное распеределение, т.е. ближе к нормальному.\n",
    "Эксперимент начался во время падения CTR в обеих группах и затем их динамика была одинаковая и за день до окончания эксперимента резко пошла вверх у группы 2, на которой были применены новые алгоритмы. Вполне возможно, что времени не хватило, чтобы выправилась ситуация с CTRами у группы 2 "
   ]
  },
  {
   "cell_type": "markdown",
   "id": "4691cfe3-d790-4f56-81c0-0758a1e2263c",
   "metadata": {},
   "source": [
    "#### 3.3. Проверка гипотез на cглаженном CTR"
   ]
  },
  {
   "cell_type": "code",
   "execution_count": 25,
   "id": "e6e54592-d637-4cb0-afa6-70664896d034",
   "metadata": {},
   "outputs": [],
   "source": [
    "# Выгрузка данных по условию: '2022-01-31' по '2023-02-06' и 2 и 3 экспериментальной группы\n",
    "query = \"\"\"\n",
    "SELECT exp_group, \n",
    "    user_id,\n",
    "    sum(action = 'like') as likes,\n",
    "    sum(action = 'view') as views,\n",
    "    likes/views as ctr\n",
    "FROM {db}.feed_actions \n",
    "WHERE toDate(time) >= '2023-01-31' and toDate(time) <= '2023-02-06' and exp_group in (1,2)\n",
    "GROUP BY exp_group, user_id\n",
    "\"\"\""
   ]
  },
  {
   "cell_type": "code",
   "execution_count": 26,
   "id": "3b2b99a7-8e72-4e7b-b245-1a9e72fcee2c",
   "metadata": {},
   "outputs": [],
   "source": [
    "df_group_action = select(query)"
   ]
  },
  {
   "cell_type": "code",
   "execution_count": 27,
   "id": "1f7d882d-bac2-4167-8b1d-18c8f9140bc2",
   "metadata": {},
   "outputs": [],
   "source": [
    "# функция для сглаженного CTR  \n",
    "def get_smothed_ctr(user_likes, user_views, global_ctr, alpha):\n",
    "    smothed_ctr = (user_likes + alpha * global_ctr) / (user_views + alpha)\n",
    "    return smothed_ctr"
   ]
  },
  {
   "cell_type": "code",
   "execution_count": 30,
   "id": "0b401bad-e2fd-41b4-bbc7-1b026722305f",
   "metadata": {},
   "outputs": [
    {
     "data": {
      "image/png": "[encoded data removed]",
      "text/plain": [
       "<Figure size 432x288 with 1 Axes>"
      ]
     },
     "metadata": {
      "needs_background": "light"
     },
     "output_type": "display_data"
    }
   ],
   "source": [
    "# Найдем среднее CTR в обеих группах\n",
    "global_ctr_1 = df_group_action[df_group_action.exp_group == 1].likes.sum()/df_group_action[df_group_action.exp_group == 1].views.sum()\n",
    "global_ctr_2 = df_group_action[df_group_action.exp_group == 2].likes.sum()/df_group_action[df_group_action.exp_group == 2].views.sum()\n",
    "\n",
    "group1 = df_group_action[df_group_action.exp_group == 1].copy()\n",
    "sns.distplot(group1.ctr, \n",
    "             kde = False)\n",
    "sns.despine()\n",
    "plt.title('Распределения получившихся CTR до сглаживания CTR у 1 группы')\n",
    "plt.xlabel('CTR')\n",
    "plt.ylabel('count')\n",
    "plt.show()"
   ]
  },
  {
   "cell_type": "code",
   "execution_count": 31,
   "id": "cc464dc9-2a8a-4e2a-94c8-9a548b3cd391",
   "metadata": {},
   "outputs": [
    {
     "data": {
      "image/png": "[encoded data removed]",
      "text/plain": [
       "<Figure size 432x288 with 1 Axes>"
      ]
     },
     "metadata": {
      "needs_background": "light"
     },
     "output_type": "display_data"
    }
   ],
   "source": [
    "group2 = df_group_action[df_group_action.exp_group == 2].copy()\n",
    "sns.distplot(group2.ctr, \n",
    "             kde = False)\n",
    "sns.despine()\n",
    "plt.title('Распределение получившихся CTR до сглаживания CTR у 2 группы')\n",
    "plt.xlabel('CTR')\n",
    "plt.ylabel('count')\n",
    "plt.show()"
   ]
  },
  {
   "cell_type": "code",
   "execution_count": 32,
   "id": "b90d79e7-d20e-4a79-b3bf-50a4e5280a64",
   "metadata": {},
   "outputs": [
    {
     "data": {
      "image/png": "[encoded data removed]",
      "text/plain": [
       "<Figure size 432x288 with 1 Axes>"
      ]
     },
     "metadata": {
      "needs_background": "light"
     },
     "output_type": "display_data"
    }
   ],
   "source": [
    "# Сгладим 1 группу с помощью процедуры сглаживания Лапласа\n",
    "group1['smothed_ctr'] = df_group_action.apply(\n",
    "    lambda x: get_smothed_ctr(x['likes'], x['views'], global_ctr_1, 5), axis=1)\n",
    "\n",
    "sns.distplot(group1.smothed_ctr, \n",
    "             kde = False)\n",
    "sns.despine()\n",
    "plt.title('Распределениe получившихсяue CTR для сглаженного CTR 1 группы')\n",
    "plt.xlabel('CTR')\n",
    "plt.ylabel('count')\n",
    "plt.show()"
   ]
  },
  {
   "cell_type": "code",
   "execution_count": 33,
   "id": "4ebf30b3-0d69-44c5-8dd9-ec2ef662e032",
   "metadata": {},
   "outputs": [
    {
     "data": {
      "image/png": "[encoded data removed]",
      "text/plain": [
       "<Figure size 432x288 with 1 Axes>"
      ]
     },
     "metadata": {
      "needs_background": "light"
     },
     "output_type": "display_data"
    }
   ],
   "source": [
    "# Сгладим 2 группу с помощью процедуры сглаживания Лапласа и посмотрим распределение\n",
    "group2['smothed_ctr'] = df_group_action.apply(\n",
    "    lambda x: get_smothed_ctr(x['likes'], x['views'], global_ctr_2, 5), axis=1)\n",
    "\n",
    "sns.distplot(group2.smothed_ctr, \n",
    "             kde = False)\n",
    "sns.despine()\n",
    "plt.title('Распределениe получившихся CTR для сглаженного CTR 2 группы')\n",
    "plt.xlabel('CTR')\n",
    "plt.ylabel('count')\n",
    "plt.show()"
   ]
  },
  {
   "cell_type": "markdown",
   "id": "c3dda87d-847c-46e8-8b94-1fb5b16dd2b2",
   "metadata": {},
   "source": [
    "У второй группы распеределение после сгаживания CTR два пика осталось, и у первой по сути ничего не изменилось. кроме тех пользователей, у которых экстримально малый CTR"
   ]
  },
  {
   "cell_type": "markdown",
   "id": "3f1e93a1-e375-4d43-8344-3d16015a72cf",
   "metadata": {},
   "source": [
    "#### Используем для проверки гипотезы тест t-test на сглаженных CTR"
   ]
  },
  {
   "cell_type": "markdown",
   "id": "3a09887a-5fa6-4105-8514-29c8bcc3cde5",
   "metadata": {},
   "source": [
    "##### Нулевая гипотеза(Н0) – средние двух выборок равны (средние пользовательские CTR равны), альтернативная гипотеза(Н1) – средние пользовательские CTR 2 и 3 экспериментальной группы различаются."
   ]
  },
  {
   "cell_type": "code",
   "execution_count": 34,
   "id": "0670b6aa-6a72-45fc-af0c-8f9152a29a7e",
   "metadata": {},
   "outputs": [
    {
     "name": "stdout",
     "output_type": "stream",
     "text": [
      "p-значение: 0.0223769815558559\n",
      "Отвергаем нулевую гипотезу\n"
     ]
    }
   ],
   "source": [
    "ttest(0.05, group1, group2, 'smothed_ctr')"
   ]
  },
  {
   "cell_type": "markdown",
   "id": "5a79988a-9236-4aa1-8ed4-433f4553c207",
   "metadata": {},
   "source": [
    "##### Отвергаем гипотезу, что средние пользовательские CTR группы 1 и группы 2 одинаковые."
   ]
  },
  {
   "cell_type": "markdown",
   "id": "847189a5-6ec9-4567-ba3c-15710ac5c1bd",
   "metadata": {},
   "source": [
    "#### Используем для проверки гипотезы тест Манна-Уитни"
   ]
  },
  {
   "cell_type": "code",
   "execution_count": 35,
   "id": "099c51f2-6201-410c-b959-8f228d101ae6",
   "metadata": {},
   "outputs": [
    {
     "name": "stdout",
     "output_type": "stream",
     "text": [
      "p-значение: 1.6163964114270227e-61\n",
      "Отвергаем нулевую гипотезу\n"
     ]
    }
   ],
   "source": [
    "test_mannwhitneyu(0.05, group1, group2, 'smothed_ctr')"
   ]
  },
  {
   "cell_type": "markdown",
   "id": "ae30ea3e-764e-434f-ad50-dd418a43f58d",
   "metadata": {},
   "source": [
    "##### Нулевую гипотезу отвергаем, т.е. разница между группами статистически значима."
   ]
  },
  {
   "cell_type": "markdown",
   "id": "462e8441-778b-4ad4-b4d4-e65b98ec4df8",
   "metadata": {},
   "source": [
    "#### Вывод: \n",
    "После сглаживания CTR  и т-тест показал, что можно отвергнуть нулевую гипотезу"
   ]
  },
  {
   "cell_type": "markdown",
   "id": "df907b5c-759a-4e60-8378-e24f1a6ff33c",
   "metadata": {},
   "source": [
    "#### 3.4. Пуассоновский бутстреп для подсчета разницы в CTR"
   ]
  },
  {
   "cell_type": "code",
   "execution_count": 36,
   "id": "55dd9a6c-0a55-4e60-97ae-be21e78d3fc8",
   "metadata": {},
   "outputs": [
    {
     "data": {
      "image/png": "[encoded data removed]",
      "text/plain": [
       "<Figure size 432x288 with 1 Axes>"
      ]
     },
     "metadata": {
      "needs_background": "light"
     },
     "output_type": "display_data"
    }
   ],
   "source": [
    "# Функция для подсчета разницы в CTR Пуассоновским бутстрепом:\n",
    "def bootstrap(likes1, views1, likes2, views2, n_bootstrap=2000):\n",
    "\n",
    "    poisson_bootstraps1 = st.poisson(1).rvs(\n",
    "        (n_bootstrap, len(likes1))).astype(np.int64)\n",
    "\n",
    "    poisson_bootstraps2 = st.poisson(1).rvs(\n",
    "            (n_bootstrap, len(likes2))).astype(np.int64)\n",
    "    \n",
    "    globalCTR1 = (poisson_bootstraps1*likes1).sum(axis=1)/(poisson_bootstraps1*views1).sum(axis=1)\n",
    "    \n",
    "    globalCTR2 = (poisson_bootstraps2*likes2).sum(axis=1)/(poisson_bootstraps2*views2).sum(axis=1)\n",
    "\n",
    "    return globalCTR1, globalCTR2\n",
    "\n",
    "likes1 = df_group_action[df_group_action.exp_group == 1].likes.to_numpy()\n",
    "views1 = df_group_action[df_group_action.exp_group == 1].views.to_numpy()\n",
    "likes2 = df_group_action[df_group_action.exp_group == 2].likes.to_numpy()\n",
    "views2 = df_group_action[df_group_action.exp_group == 2].views.to_numpy()\n",
    "\n",
    "ctr1, ctr2 = bootstrap(likes1, views1, likes2, views2)  # применим функцию для подсчета разницы в CTR Пуассоновским бутстрепом\n",
    "# Отрисуем распределения после преобразований\n",
    "sns.histplot(ctr1)\n",
    "sns.histplot(ctr2)\n",
    "sns.despine()\n",
    "plt.title('Распределения получившихся p-values для разницы в глобальном CTR')\n",
    "plt.xlabel('CTR')\n",
    "plt.ylabel('count')\n",
    "plt.show()"
   ]
  },
  {
   "cell_type": "code",
   "execution_count": 37,
   "id": "97bfb78c-f973-4a73-a715-6873cc0aca04",
   "metadata": {},
   "outputs": [
    {
     "data": {
      "image/png": "[encoded data removed]",
      "text/plain": [
       "<Figure size 432x288 with 1 Axes>"
      ]
     },
     "metadata": {
      "needs_background": "light"
     },
     "output_type": "display_data"
    }
   ],
   "source": [
    "# Отрисуем распределение разницы\n",
    "sns.histplot(ctr2 - ctr1)\n",
    "sns.despine()\n",
    "plt.title('Распределение разницы между глобальными CTR')\n",
    "plt.xlabel('CTR')\n",
    "plt.ylabel('count')\n",
    "plt.show()"
   ]
  },
  {
   "cell_type": "markdown",
   "id": "edc549ee-a9e8-46b8-bdf3-764e3ed80ea9",
   "metadata": {},
   "source": [
    "#### Вывод\n",
    "Видим, что совсем нет пересечений у двух групп пользователей и находится в зоне, которая строго меньше 0, значит средний CTR уменьшился после применнения новых алгоритмов рекомендации постов"
   ]
  },
  {
   "cell_type": "markdown",
   "id": "98ac7a87-d64e-4bff-bd5b-3980290575ec",
   "metadata": {},
   "source": [
    "#### 3.5.  Проверка гипотез поверх бакетного преобразования"
   ]
  },
  {
   "cell_type": "code",
   "execution_count": 38,
   "id": "6d0f2cfa-f27f-4adb-b251-2c368f53fcff",
   "metadata": {},
   "outputs": [],
   "source": [
    "# Выгрузка данных по условию: '2022-01-31' по '2023-02-06' и 2 и 3 экспериментальной группы\n",
    "query = \"\"\"\n",
    "SELECT exp_group, bucket,\n",
    "    sum(likes)/sum(views) as bucket_ctr, -- считаем средний CTR в каждом бакете\n",
    "    quantileExact(0.9)(ctr) as ctr9 -- берем 90 % квантиль в каждом бакете\n",
    "FROM (SELECT exp_group, \n",
    "        xxHash64(user_id)%50 as bucket, -- разбиваем на бакеты пользователей\n",
    "        user_id,\n",
    "        sum(action = 'like') as likes,\n",
    "        sum(action = 'view') as views,\n",
    "        likes/views as ctr\n",
    "    FROM {db}.feed_actions \n",
    "    WHERE toDate(time) >= '2023-01-31' and toDate(time) <= '2023-02-06' and exp_group in (1,2)\n",
    "    GROUP BY exp_group, bucket, user_id)\n",
    "GROUP BY exp_group, bucket\n",
    "\"\"\""
   ]
  },
  {
   "cell_type": "code",
   "execution_count": 39,
   "id": "ecb67a38-b673-4b97-9c63-0859adb116ac",
   "metadata": {},
   "outputs": [],
   "source": [
    "df_group_bucket = select(query)"
   ]
  },
  {
   "cell_type": "code",
   "execution_count": 40,
   "id": "597d80fd-cdbb-4670-9eab-4a8c5ab8664d",
   "metadata": {},
   "outputs": [
    {
     "data": {
      "text/html": [
       "<div>\n",
       "<style scoped>\n",
       "    .dataframe tbody tr th:only-of-type {\n",
       "        vertical-align: middle;\n",
       "    }\n",
       "\n",
       "    .dataframe tbody tr th {\n",
       "        vertical-align: top;\n",
       "    }\n",
       "\n",
       "    .dataframe thead th {\n",
       "        text-align: right;\n",
       "    }\n",
       "</style>\n",
       "<table border=\"1\" class=\"dataframe\">\n",
       "  <thead>\n",
       "    <tr style=\"text-align: right;\">\n",
       "      <th></th>\n",
       "      <th>exp_group</th>\n",
       "      <th>bucket</th>\n",
       "      <th>bucket_ctr</th>\n",
       "      <th>ctr9</th>\n",
       "    </tr>\n",
       "  </thead>\n",
       "  <tbody>\n",
       "    <tr>\n",
       "      <th>0</th>\n",
       "      <td>1</td>\n",
       "      <td>0</td>\n",
       "      <td>0.196481</td>\n",
       "      <td>0.307692</td>\n",
       "    </tr>\n",
       "    <tr>\n",
       "      <th>1</th>\n",
       "      <td>2</td>\n",
       "      <td>0</td>\n",
       "      <td>0.194262</td>\n",
       "      <td>0.384615</td>\n",
       "    </tr>\n",
       "    <tr>\n",
       "      <th>2</th>\n",
       "      <td>1</td>\n",
       "      <td>1</td>\n",
       "      <td>0.211887</td>\n",
       "      <td>0.318182</td>\n",
       "    </tr>\n",
       "    <tr>\n",
       "      <th>3</th>\n",
       "      <td>2</td>\n",
       "      <td>1</td>\n",
       "      <td>0.215328</td>\n",
       "      <td>0.467742</td>\n",
       "    </tr>\n",
       "    <tr>\n",
       "      <th>4</th>\n",
       "      <td>1</td>\n",
       "      <td>2</td>\n",
       "      <td>0.206271</td>\n",
       "      <td>0.322314</td>\n",
       "    </tr>\n",
       "    <tr>\n",
       "      <th>...</th>\n",
       "      <td>...</td>\n",
       "      <td>...</td>\n",
       "      <td>...</td>\n",
       "      <td>...</td>\n",
       "    </tr>\n",
       "    <tr>\n",
       "      <th>95</th>\n",
       "      <td>2</td>\n",
       "      <td>47</td>\n",
       "      <td>0.195880</td>\n",
       "      <td>0.426230</td>\n",
       "    </tr>\n",
       "    <tr>\n",
       "      <th>96</th>\n",
       "      <td>1</td>\n",
       "      <td>48</td>\n",
       "      <td>0.212787</td>\n",
       "      <td>0.318182</td>\n",
       "    </tr>\n",
       "    <tr>\n",
       "      <th>97</th>\n",
       "      <td>2</td>\n",
       "      <td>48</td>\n",
       "      <td>0.194502</td>\n",
       "      <td>0.409091</td>\n",
       "    </tr>\n",
       "    <tr>\n",
       "      <th>98</th>\n",
       "      <td>1</td>\n",
       "      <td>49</td>\n",
       "      <td>0.203169</td>\n",
       "      <td>0.325581</td>\n",
       "    </tr>\n",
       "    <tr>\n",
       "      <th>99</th>\n",
       "      <td>2</td>\n",
       "      <td>49</td>\n",
       "      <td>0.196539</td>\n",
       "      <td>0.382979</td>\n",
       "    </tr>\n",
       "  </tbody>\n",
       "</table>\n",
       "<p>100 rows × 4 columns</p>\n",
       "</div>"
      ],
      "text/plain": [
       "    exp_group  bucket  bucket_ctr      ctr9\n",
       "0           1       0    0.196481  0.307692\n",
       "1           2       0    0.194262  0.384615\n",
       "2           1       1    0.211887  0.318182\n",
       "3           2       1    0.215328  0.467742\n",
       "4           1       2    0.206271  0.322314\n",
       "..        ...     ...         ...       ...\n",
       "95          2      47    0.195880  0.426230\n",
       "96          1      48    0.212787  0.318182\n",
       "97          2      48    0.194502  0.409091\n",
       "98          1      49    0.203169  0.325581\n",
       "99          2      49    0.196539  0.382979\n",
       "\n",
       "[100 rows x 4 columns]"
      ]
     },
     "execution_count": 40,
     "metadata": {},
     "output_type": "execute_result"
    }
   ],
   "source": [
    "df_group_bucket"
   ]
  },
  {
   "cell_type": "markdown",
   "id": "a3300f17-e952-4b7e-8d3d-ca96379a3bd7",
   "metadata": {},
   "source": [
    "#### Проверки гипотез t-test и тестом Манна-Уитни"
   ]
  },
  {
   "cell_type": "markdown",
   "id": "0c23cf10-8227-43bd-bef3-661644de5c72",
   "metadata": {},
   "source": [
    "Проведем тесты, сравнивая после бакетного преобразования, где были посчитаны средние CTR в каждом бакете"
   ]
  },
  {
   "cell_type": "markdown",
   "id": "85375f85-50fd-4f66-b82f-52aa17735687",
   "metadata": {},
   "source": [
    "##### Нулевая гипотеза(Н0) – средние двух выборок равны (средние пользовательские CTR равны), альтернативная гипотеза(Н1) – средние пользовательские CTR 2 и 3 экспериментальной группы различаются."
   ]
  },
  {
   "cell_type": "code",
   "execution_count": 41,
   "id": "43f1d059-4821-4850-a3f4-410c78c1f6f1",
   "metadata": {},
   "outputs": [
    {
     "name": "stdout",
     "output_type": "stream",
     "text": [
      "p-значение: 3.4455951649945907e-07\n",
      "Отвергаем нулевую гипотезу\n"
     ]
    }
   ],
   "source": [
    "ttest(0.05, df_group_bucket[df_group_bucket.exp_group == 1], df_group_bucket[df_group_bucket.exp_group == 2], 'bucket_ctr')"
   ]
  },
  {
   "cell_type": "markdown",
   "id": "c8ceb77e-6491-4b84-a492-5c0a0e43a641",
   "metadata": {},
   "source": [
    "##### Нулевая гипотеза(Н0) – нет статистически значимого различия в средних пользовательских CTR между группами, альтернативная гипотеза(Н1) – разница в средних пользовательских CTR между группами статистически значима.¶"
   ]
  },
  {
   "cell_type": "code",
   "execution_count": 42,
   "id": "9eeed10d-0b19-490a-81bb-8c80f22b1826",
   "metadata": {},
   "outputs": [
    {
     "name": "stdout",
     "output_type": "stream",
     "text": [
      "p-значение: 2.859963936492646e-07\n",
      "Отвергаем нулевую гипотезу\n"
     ]
    }
   ],
   "source": [
    "test_mannwhitneyu(0.05, df_group_bucket[df_group_bucket.exp_group == 1], df_group_bucket[df_group_bucket.exp_group == 2], 'bucket_ctr')"
   ]
  },
  {
   "cell_type": "code",
   "execution_count": 44,
   "id": "d002ba2c-fe67-4203-995a-65a8e721081e",
   "metadata": {},
   "outputs": [
    {
     "data": {
      "image/png": "[encoded data removed]",
      "text/plain": [
       "<Figure size 432x288 with 1 Axes>"
      ]
     },
     "metadata": {
      "needs_background": "light"
     },
     "output_type": "display_data"
    }
   ],
   "source": [
    "sns.histplot(df_group_bucket[df_group_bucket.exp_group == 1].bucket_ctr)\n",
    "sns.despine()\n",
    "plt.title('Распределения разности получившихся CTR')\n",
    "plt.xlabel('CTR')\n",
    "plt.ylabel('count')\n",
    "plt.show()"
   ]
  },
  {
   "cell_type": "code",
   "execution_count": 45,
   "id": "7dba13e3-5ea5-4e73-abca-a1d93b8fed11",
   "metadata": {},
   "outputs": [
    {
     "data": {
      "image/png": "[encoded data removed]",
      "text/plain": [
       "<Figure size 432x288 with 1 Axes>"
      ]
     },
     "metadata": {
      "needs_background": "light"
     },
     "output_type": "display_data"
    }
   ],
   "source": [
    "sns.histplot(df_group_bucket[df_group_bucket.exp_group == 2].bucket_ctr)\n",
    "sns.despine()\n",
    "plt.title('Распределения разности получившихся CTR')\n",
    "plt.xlabel('CTR')\n",
    "plt.ylabel('count')\n",
    "plt.show()"
   ]
  },
  {
   "cell_type": "markdown",
   "id": "93058f53-0b97-4acb-911d-c9d5c22653d6",
   "metadata": {},
   "source": [
    "#### Проведем тесты сравнивая бакеты с 90% квантилями"
   ]
  },
  {
   "cell_type": "markdown",
   "id": "1c60b63e-4086-4d5e-b583-60d683f22fe6",
   "metadata": {},
   "source": [
    "##### Нулевая гипотеза(Н0) – средние двух выборок равны (средние пользовательские CTR равны), альтернативная гипотеза(Н1) – средние пользовательские CTR 2 и 3 экспериментальной группы различаются."
   ]
  },
  {
   "cell_type": "code",
   "execution_count": 46,
   "id": "9963c682-2232-47df-94e4-0858baf5d7b7",
   "metadata": {},
   "outputs": [
    {
     "name": "stdout",
     "output_type": "stream",
     "text": [
      "p-значение: 1.2945537024964474e-40\n",
      "Отвергаем нулевую гипотезу\n"
     ]
    }
   ],
   "source": [
    "ttest(0.05, df_group_bucket[df_group_bucket.exp_group == 1], df_group_bucket[df_group_bucket.exp_group == 2], 'ctr9')"
   ]
  },
  {
   "cell_type": "markdown",
   "id": "23e3368f-4d4a-4e60-9cc4-0b0d424ddc03",
   "metadata": {},
   "source": [
    "##### Нулевая гипотеза(Н0) – нет статистически значимого различия в средних пользовательских CTR между группами, альтернативная гипотеза(Н1) – разница в средних пользовательских CTR между группами статистически значима."
   ]
  },
  {
   "cell_type": "code",
   "execution_count": 47,
   "id": "9d85da84-59b4-4ba8-b2e9-920693c3ce89",
   "metadata": {},
   "outputs": [
    {
     "name": "stdout",
     "output_type": "stream",
     "text": [
      "p-значение: 6.344839189967265e-18\n",
      "Отвергаем нулевую гипотезу\n"
     ]
    }
   ],
   "source": [
    "test_mannwhitneyu(0.05, df_group_bucket[df_group_bucket.exp_group == 1], df_group_bucket[df_group_bucket.exp_group == 2], 'ctr9')"
   ]
  },
  {
   "cell_type": "code",
   "execution_count": 48,
   "id": "8e5816e2-e4cb-47ac-86f2-8201aab1cc7e",
   "metadata": {},
   "outputs": [
    {
     "data": {
      "image/png": "[encoded data removed]",
      "text/plain": [
       "<Figure size 432x288 with 1 Axes>"
      ]
     },
     "metadata": {
      "needs_background": "light"
     },
     "output_type": "display_data"
    }
   ],
   "source": [
    "sns.histplot(df_group_bucket[df_group_bucket.exp_group == 1].ctr9)\n",
    "sns.despine()\n",
    "plt.title('Распределения разности получившихся CTR')\n",
    "plt.xlabel('CTR')\n",
    "plt.ylabel('count')\n",
    "plt.show()"
   ]
  },
  {
   "cell_type": "code",
   "execution_count": 49,
   "id": "90e01f12-f2d5-4dbd-b346-8165db15b105",
   "metadata": {},
   "outputs": [
    {
     "data": {
      "image/png": "[encoded data removed]",
      "text/plain": [
       "<Figure size 432x288 with 1 Axes>"
      ]
     },
     "metadata": {
      "needs_background": "light"
     },
     "output_type": "display_data"
    }
   ],
   "source": [
    "sns.histplot(df_group_bucket[df_group_bucket.exp_group == 2].ctr9)\n",
    "sns.despine()\n",
    "plt.title('Распределения разности получившихся CTR')\n",
    "plt.xlabel('CTR')\n",
    "plt.ylabel('count')\n",
    "plt.show()"
   ]
  },
  {
   "cell_type": "markdown",
   "id": "26189b9c-36ee-4154-8646-a514588dcd23",
   "metadata": {},
   "source": [
    "#### Вывод\n",
    "Распределения у групп после бакетного преобразования стали более нормальными, особенно у 2 группы пользователей, но все равно отвергаем нулевую гипотезу и опять во всех случаях отвергаем нулевую гипотезу"
   ]
  },
  {
   "cell_type": "markdown",
   "id": "c95e5292-1fb4-4cea-87be-7bf2855b88c3",
   "metadata": {},
   "source": [
    "### Общий вывод\n",
    "Если рассматривать графические представления распределений средних CTR в группах и после применения теста Шапиро-Уилка, понимаем, что они не нормальные. Бимодальность группы, где был применен новые алгоритмы рекомендации постов, может быть связано стем, что аудитория разделилась на две группы, которым изменения очень зашли и которым совсем не зашли, при чем у вторых средние CTR кучно находятся в районе значения 0,1\n",
    "Разница в средних CTR имеется, но только не в лучшую сторону для группы No2\n",
    "Почему такое могло произойти? Может эти рекомендации получились ориентированные на более взрослую публику или наоборот, а может изменения повлияли именно на аудиторию, которую мало лайкает? Хотели выправить ситуацию, привлечь последних к действию под название \"лайк\".\n",
    "Еще одна гипотеза: не хватило времени для выправления ситуации, возможно, что через несколько дней ситуация бы улучшилась\n",
    "Возможно имеет смысл рассмотреть возможность продлить эксперимент\n"
   ]
  },
  {
   "cell_type": "code",
   "execution_count": null,
   "id": "db372af2-284b-4dcc-94b6-68d29dcd6cb4",
   "metadata": {},
   "outputs": [],
   "source": []
  }
 ],
 "metadata": {
  "kernelspec": {
   "display_name": "Python 3 (ipykernel)",
   "language": "python",
   "name": "python3"
  },
  "language_info": {
   "codemirror_mode": {
    "name": "ipython",
    "version": 3
   },
   "file_extension": ".py",
   "mimetype": "text/x-python",
   "name": "python",
   "nbconvert_exporter": "python",
   "pygments_lexer": "ipython3",
   "version": "3.8.10"
  }
 },
 "nbformat": 4,
 "nbformat_minor": 5
}
